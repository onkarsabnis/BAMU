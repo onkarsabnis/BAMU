{
 "cells": [
  {
   "cell_type": "code",
   "execution_count": 416,
   "metadata": {},
   "outputs": [],
   "source": [
    "import numpy as np\n",
    "import pandas as pd\n",
    "import matplotlib.pyplot as plt\n",
    "import seaborn as sns\n",
    "%matplotlib inline"
   ]
  },
  {
   "cell_type": "code",
   "execution_count": 417,
   "metadata": {},
   "outputs": [],
   "source": [
    "DF=pd.read_csv('ASD_data.csv')"
   ]
  },
  {
   "cell_type": "code",
   "execution_count": 418,
   "metadata": {},
   "outputs": [
    {
     "name": "stdout",
     "output_type": "stream",
     "text": [
      "<class 'pandas.core.frame.DataFrame'>\n",
      "RangeIndex: 346311 entries, 0 to 346310\n",
      "Data columns (total 13 columns):\n",
      "Wavelength     346311 non-null int64\n",
      "Reflectance    346311 non-null float64\n",
      "Unnamed: 2     0 non-null float64\n",
      "Unnamed: 3     0 non-null float64\n",
      "Unnamed: 4     0 non-null float64\n",
      "Unnamed: 5     0 non-null float64\n",
      "Unnamed: 6     0 non-null float64\n",
      "Unnamed: 7     0 non-null float64\n",
      "Unnamed: 8     0 non-null float64\n",
      "Unnamed: 9     79 non-null float64\n",
      "Unnamed: 10    0 non-null float64\n",
      "Unnamed: 11    7 non-null float64\n",
      "Unnamed: 12    6 non-null float64\n",
      "dtypes: float64(12), int64(1)\n",
      "memory usage: 34.3 MB\n"
     ]
    }
   ],
   "source": [
    "DF.info()"
   ]
  },
  {
   "cell_type": "code",
   "execution_count": 422,
   "metadata": {},
   "outputs": [
    {
     "data": {
      "text/plain": [
       "[<matplotlib.lines.Line2D at 0x1d236d50160>]"
      ]
     },
     "execution_count": 422,
     "metadata": {},
     "output_type": "execute_result"
    },
    {
     "data": {
      "image/png": "[encoded data removed]",
      "text/plain": [
       "<Figure size 432x288 with 1 Axes>"
      ]
     },
     "metadata": {
      "needs_background": "light"
     },
     "output_type": "display_data"
    }
   ],
   "source": [
    "plt.plot('Wavelength','Reflectance',data=df[0])"
   ]
  },
  {
   "cell_type": "code",
   "execution_count": 222,
   "metadata": {},
   "outputs": [],
   "source": [
    "a=np.linspace(0,346312,162)\n",
    "\n",
    "a=a.astype(int)"
   ]
  },
  {
   "cell_type": "code",
   "execution_count": 223,
   "metadata": {},
   "outputs": [],
   "source": [
    "df=list()\n",
    "\n",
    "for i in a:\n",
    "    df.append(DF.iloc[i:i+2151])"
   ]
  },
  {
   "cell_type": "code",
   "execution_count": null,
   "metadata": {},
   "outputs": [],
   "source": []
  },
  {
   "cell_type": "code",
   "execution_count": 224,
   "metadata": {},
   "outputs": [],
   "source": [
    "\n",
    "def PSRAa(i):\n",
    "    return (df[i].loc[df[i]['Wavelength'] == 800, 'Reflectance'].iloc[0])/(df[i].loc[df[i]['Wavelength'] == 680, 'Reflectance'].iloc[0])"
   ]
  },
  {
   "cell_type": "code",
   "execution_count": 225,
   "metadata": {},
   "outputs": [],
   "source": [
    "psraa=[]\n",
    "for i in range(0,160):\n",
    "    m=PSRAa(i)\n",
    "    psraa.append(m)\n",
    "    \n"
   ]
  },
  {
   "cell_type": "code",
   "execution_count": 226,
   "metadata": {},
   "outputs": [],
   "source": [
    "def PSRAb(i):\n",
    "    return (df[i].loc[df[i]['Wavelength'] == 800, 'Reflectance'].iloc[0])/(df[i].loc[df[i]['Wavelength'] == 635, 'Reflectance'].iloc[0])\n",
    "    "
   ]
  },
  {
   "cell_type": "code",
   "execution_count": 227,
   "metadata": {},
   "outputs": [],
   "source": [
    "psrab=[]\n",
    "for i in range(0,160):\n",
    "    m=PSRAb(i)\n",
    "    psrab.append(m)"
   ]
  },
  {
   "cell_type": "code",
   "execution_count": 228,
   "metadata": {},
   "outputs": [],
   "source": [
    "def PSRAc(i):\n",
    "    return (df[i].loc[df[i]['Wavelength'] == 800, 'Reflectance'].iloc[0])/(df[i].loc[df[i]['Wavelength'] == 470, 'Reflectance'].iloc[0])\n",
    "    "
   ]
  },
  {
   "cell_type": "code",
   "execution_count": 229,
   "metadata": {},
   "outputs": [],
   "source": [
    "psrac=[]\n",
    "for i in range(0,160):\n",
    "    m=PSRAc(i)\n",
    "    psrac.append(m)"
   ]
  },
  {
   "cell_type": "code",
   "execution_count": 230,
   "metadata": {},
   "outputs": [],
   "source": [
    "def WI(i):\n",
    "    return (df[i].loc[df[i]['Wavelength'] == 900, 'Reflectance'].iloc[0])/(df[i].loc[df[i]['Wavelength'] == 970, 'Reflectance'].iloc[0])\n",
    "    \n",
    "    "
   ]
  },
  {
   "cell_type": "code",
   "execution_count": 231,
   "metadata": {},
   "outputs": [],
   "source": [
    "wi=[]\n",
    "for i in range(0,160):\n",
    "    m=WI(i)\n",
    "    wi.append(m)"
   ]
  },
  {
   "cell_type": "code",
   "execution_count": 232,
   "metadata": {},
   "outputs": [],
   "source": [
    "def SIPI(i):\n",
    "    return ((df[i].loc[df[i]['Wavelength'] == 800, 'Reflectance'].iloc[0])-(df[i].loc[df[i]['Wavelength'] == 680, 'Reflectance'].iloc[0]))/((df[i].loc[df[i]['Wavelength'] == 800, 'Reflectance'].iloc[0])+(df[i].loc[df[i]['Wavelength'] == 680, 'Reflectance'].iloc[0]))\n",
    "    "
   ]
  },
  {
   "cell_type": "code",
   "execution_count": 233,
   "metadata": {},
   "outputs": [],
   "source": [
    "sipi=[]\n",
    "for i in range(0,160):\n",
    "    m=SIPI(i)\n",
    "    sipi.append(m)"
   ]
  },
  {
   "cell_type": "code",
   "execution_count": 234,
   "metadata": {},
   "outputs": [],
   "source": [
    "def NDVI(i):\n",
    "    return ((df[i].loc[df[i]['Wavelength'] == 800, 'Reflectance'].iloc[0])-(df[i].loc[df[i]['Wavelength'] == 670, 'Reflectance'].iloc[0]))/((df[i].loc[df[i]['Wavelength'] == 800, 'Reflectance'].iloc[0])+(df[i].loc[df[i]['Wavelength'] == 670, 'Reflectance'].iloc[0]))\n",
    "    "
   ]
  },
  {
   "cell_type": "code",
   "execution_count": 235,
   "metadata": {},
   "outputs": [],
   "source": [
    "ndvi=[]\n",
    "for i in range(0,160):\n",
    "    m=NDVI(i)\n",
    "    ndvi.append(m)"
   ]
  },
  {
   "cell_type": "code",
   "execution_count": 420,
   "metadata": {},
   "outputs": [
    {
     "data": {
      "text/plain": [
       "0.226"
      ]
     },
     "execution_count": 420,
     "metadata": {},
     "output_type": "execute_result"
    }
   ],
   "source": [
    "(df[i].loc[df[i]['Wavelength'] == 800, 'Reflectance'].iloc[0])"
   ]
  },
  {
   "cell_type": "code",
   "execution_count": 236,
   "metadata": {},
   "outputs": [],
   "source": [
    "##Chlorophyll Index (CI)\n",
    "\n",
    "##The chlorophyll index is used to calculate the total chlorophyll content of the leaves. The CIgreen and CIred-edge values are sensitive to small variations in the chlorophyll content and consistent across most species.\n",
    "\n",
    "####CI green = ρNIR / ρgreen – 1 = ρ730/ρ530 – 1\n",
    "#CI red-edge = ρNIR/ρred_edge – 1 = ρ850/ρ730 – 1\n",
    "\n",
    "#The red-edge band is a narrow band in the vegetation reflectance spectrum between the transition of red to near infra-red.\n",
    "#The total chlorophyll content is linearly correlated with the difference between the reciprocal reflectance of green/ red-edge bands and the NIR band. Hence, a CIgreen- calculated using the observation in the green region (570 nm) and a CIred-edge – using observations in the red-edge (730 nm) are widely used."
   ]
  },
  {
   "cell_type": "code",
   "execution_count": 237,
   "metadata": {},
   "outputs": [],
   "source": [
    "def CIgreen(i):\n",
    "    \n",
    "    return ((df[i].loc[df[i]['Wavelength'] == 730, 'Reflectance'].iloc[0])/(df[i].loc[df[i]['Wavelength'] == 530, 'Reflectance'].iloc[0]))-1\n",
    "\n",
    "    "
   ]
  },
  {
   "cell_type": "code",
   "execution_count": 238,
   "metadata": {},
   "outputs": [],
   "source": [
    "cigreen=[]\n",
    "for i in range(0,160):\n",
    "    m=CIgreen(i)\n",
    "    cigreen.append(m)"
   ]
  },
  {
   "cell_type": "code",
   "execution_count": 239,
   "metadata": {},
   "outputs": [],
   "source": [
    "def CIred(i):\n",
    "    \n",
    "    return ((df[i].loc[df[i]['Wavelength'] == 850, 'Reflectance'].iloc[0])/(df[i].loc[df[i]['Wavelength'] == 730, 'Reflectance'].iloc[0]))-1\n",
    "\n",
    "    "
   ]
  },
  {
   "cell_type": "code",
   "execution_count": 240,
   "metadata": {},
   "outputs": [],
   "source": [
    "cired=[]\n",
    "for i in range(0,160):\n",
    "    m=CIred(i)\n",
    "    cired.append(m)"
   ]
  },
  {
   "cell_type": "code",
   "execution_count": 241,
   "metadata": {},
   "outputs": [],
   "source": [
    "## Modified Chlorophyll Absorption in Reflectance Index (MCARI)\n",
    "\n",
    "##MCARI gives a measure of the depth of chlorophyll absorption and is very sensitive to variations in chlorophyll concentrations as well as variations in Leaf Area Index (LAI). MCARI values are not affected by illumination conditions, the background reflectance from soil and other non-photosynthetic materials observed.\n",
    "\n",
    "##MCARI = ((ρ850-ρ710) – 0.2 × (ρ850-ρ570)) / ρ710"
   ]
  },
  {
   "cell_type": "code",
   "execution_count": 242,
   "metadata": {},
   "outputs": [],
   "source": [
    "def MCARI(i):\n",
    "    return (((df[i].loc[df[i]['Wavelength'] == 850, 'Reflectance'].iloc[0])-(df[i].loc[df[i]['Wavelength'] == 710, 'Reflectance'].iloc[0]))-((0.2)*(df[i].loc[df[i]['Wavelength'] == 850, 'Reflectance'].iloc[0])-(df[i].loc[df[i]['Wavelength'] == 710, 'Reflectance'].iloc[0])))/((df[i].loc[df[i]['Wavelength'] == 710, 'Reflectance'].iloc[0]))\n",
    "    \n",
    "    "
   ]
  },
  {
   "cell_type": "code",
   "execution_count": 243,
   "metadata": {},
   "outputs": [],
   "source": [
    "mcari=[]\n",
    "for i in range(0,160):\n",
    "    m=MCARI(i)\n",
    "    mcari.append(m)"
   ]
  },
  {
   "cell_type": "code",
   "execution_count": 244,
   "metadata": {},
   "outputs": [],
   "source": [
    "###NORMALIZED DIFFERENCE WATER INDEX"
   ]
  },
  {
   "cell_type": "code",
   "execution_count": 245,
   "metadata": {},
   "outputs": [],
   "source": [
    "def NDWI(i):\n",
    "    return ((df[i].loc[df[i]['Wavelength'] == 860, 'Reflectance'].iloc[0])-(df[i].loc[df[i]['Wavelength'] == 1240, 'Reflectance'].iloc[0]))/((df[i].loc[df[i]['Wavelength'] == 860, 'Reflectance'].iloc[0])+(df[i].loc[df[i]['Wavelength'] == 1240, 'Reflectance'].iloc[0]))\n",
    "    \n",
    "    "
   ]
  },
  {
   "cell_type": "code",
   "execution_count": 246,
   "metadata": {},
   "outputs": [],
   "source": [
    "ndwi=[]\n",
    "for i in range(0,160):\n",
    "    m=NDWI(i)\n",
    "    ndwi.append(m)"
   ]
  },
  {
   "cell_type": "code",
   "execution_count": 247,
   "metadata": {},
   "outputs": [],
   "source": [
    "wi=np.array(wi)\n",
    "psraa=np.array(psraa)\n",
    "psrab=np.array(psrab)\n",
    "psrac=np.array(psrac)\n",
    "sipi=np.array(sipi)\n",
    "ndvi=np.array(ndvi)\n",
    "cigreen=np.array(cigreen)\n",
    "cired=np.array(cired)\n",
    "mcari=np.array(mcari)\n",
    "ndwi=np.array(ndwi)\n"
   ]
  },
  {
   "cell_type": "code",
   "execution_count": 248,
   "metadata": {},
   "outputs": [],
   "source": [
    "columns=['wi','psraa','psrab','psrac','sipi','ndvi','cigreen','cired','mcari','ndwi']\n",
    "\n",
    "dfnnew=pd.DataFrame([wi,psraa,psrab,psrac,sipi,ndvi,cigreen,cired,mcari,ndwi],columns)"
   ]
  },
  {
   "cell_type": "code",
   "execution_count": 249,
   "metadata": {},
   "outputs": [
    {
     "data": {
      "text/html": [
       "<div>\n",
       "<style scoped>\n",
       "    .dataframe tbody tr th:only-of-type {\n",
       "        vertical-align: middle;\n",
       "    }\n",
       "\n",
       "    .dataframe tbody tr th {\n",
       "        vertical-align: top;\n",
       "    }\n",
       "\n",
       "    .dataframe thead th {\n",
       "        text-align: right;\n",
       "    }\n",
       "</style>\n",
       "<table border=\"1\" class=\"dataframe\">\n",
       "  <thead>\n",
       "    <tr style=\"text-align: right;\">\n",
       "      <th></th>\n",
       "      <th>0</th>\n",
       "      <th>1</th>\n",
       "      <th>2</th>\n",
       "      <th>3</th>\n",
       "      <th>4</th>\n",
       "      <th>5</th>\n",
       "      <th>6</th>\n",
       "      <th>7</th>\n",
       "      <th>8</th>\n",
       "      <th>9</th>\n",
       "      <th>...</th>\n",
       "      <th>150</th>\n",
       "      <th>151</th>\n",
       "      <th>152</th>\n",
       "      <th>153</th>\n",
       "      <th>154</th>\n",
       "      <th>155</th>\n",
       "      <th>156</th>\n",
       "      <th>157</th>\n",
       "      <th>158</th>\n",
       "      <th>159</th>\n",
       "    </tr>\n",
       "  </thead>\n",
       "  <tbody>\n",
       "    <tr>\n",
       "      <th>wi</th>\n",
       "      <td>1.043011</td>\n",
       "      <td>1.042705</td>\n",
       "      <td>1.042553</td>\n",
       "      <td>1.042403</td>\n",
       "      <td>1.042254</td>\n",
       "      <td>1.042254</td>\n",
       "      <td>1.042105</td>\n",
       "      <td>1.041958</td>\n",
       "      <td>1.041812</td>\n",
       "      <td>1.041522</td>\n",
       "      <td>...</td>\n",
       "      <td>1.017544</td>\n",
       "      <td>1.013158</td>\n",
       "      <td>1.013158</td>\n",
       "      <td>1.017621</td>\n",
       "      <td>1.017621</td>\n",
       "      <td>1.017621</td>\n",
       "      <td>1.017621</td>\n",
       "      <td>1.017621</td>\n",
       "      <td>1.013216</td>\n",
       "      <td>1.013216</td>\n",
       "    </tr>\n",
       "    <tr>\n",
       "      <th>psraa</th>\n",
       "      <td>22.384615</td>\n",
       "      <td>20.857143</td>\n",
       "      <td>19.533333</td>\n",
       "      <td>19.600000</td>\n",
       "      <td>18.437500</td>\n",
       "      <td>18.437500</td>\n",
       "      <td>18.437500</td>\n",
       "      <td>17.411765</td>\n",
       "      <td>16.444444</td>\n",
       "      <td>15.684211</td>\n",
       "      <td>...</td>\n",
       "      <td>10.363636</td>\n",
       "      <td>10.318182</td>\n",
       "      <td>10.318182</td>\n",
       "      <td>10.318182</td>\n",
       "      <td>10.318182</td>\n",
       "      <td>10.318182</td>\n",
       "      <td>10.318182</td>\n",
       "      <td>10.272727</td>\n",
       "      <td>10.272727</td>\n",
       "      <td>10.272727</td>\n",
       "    </tr>\n",
       "    <tr>\n",
       "      <th>psrab</th>\n",
       "      <td>11.192308</td>\n",
       "      <td>11.230769</td>\n",
       "      <td>10.851852</td>\n",
       "      <td>10.500000</td>\n",
       "      <td>10.535714</td>\n",
       "      <td>10.535714</td>\n",
       "      <td>10.172414</td>\n",
       "      <td>10.206897</td>\n",
       "      <td>9.866667</td>\n",
       "      <td>9.612903</td>\n",
       "      <td>...</td>\n",
       "      <td>8.769231</td>\n",
       "      <td>8.730769</td>\n",
       "      <td>8.730769</td>\n",
       "      <td>8.730769</td>\n",
       "      <td>8.730769</td>\n",
       "      <td>8.730769</td>\n",
       "      <td>8.730769</td>\n",
       "      <td>8.692308</td>\n",
       "      <td>8.692308</td>\n",
       "      <td>8.692308</td>\n",
       "    </tr>\n",
       "    <tr>\n",
       "      <th>psrac</th>\n",
       "      <td>22.384615</td>\n",
       "      <td>20.857143</td>\n",
       "      <td>19.533333</td>\n",
       "      <td>18.375000</td>\n",
       "      <td>18.437500</td>\n",
       "      <td>18.437500</td>\n",
       "      <td>17.352941</td>\n",
       "      <td>17.411765</td>\n",
       "      <td>16.444444</td>\n",
       "      <td>15.684211</td>\n",
       "      <td>...</td>\n",
       "      <td>11.400000</td>\n",
       "      <td>11.350000</td>\n",
       "      <td>11.350000</td>\n",
       "      <td>11.350000</td>\n",
       "      <td>11.350000</td>\n",
       "      <td>11.350000</td>\n",
       "      <td>11.350000</td>\n",
       "      <td>11.300000</td>\n",
       "      <td>11.300000</td>\n",
       "      <td>11.300000</td>\n",
       "    </tr>\n",
       "    <tr>\n",
       "      <th>sipi</th>\n",
       "      <td>0.914474</td>\n",
       "      <td>0.908497</td>\n",
       "      <td>0.902597</td>\n",
       "      <td>0.902913</td>\n",
       "      <td>0.897106</td>\n",
       "      <td>0.897106</td>\n",
       "      <td>0.897106</td>\n",
       "      <td>0.891374</td>\n",
       "      <td>0.885350</td>\n",
       "      <td>0.880126</td>\n",
       "      <td>...</td>\n",
       "      <td>0.824000</td>\n",
       "      <td>0.823293</td>\n",
       "      <td>0.823293</td>\n",
       "      <td>0.823293</td>\n",
       "      <td>0.823293</td>\n",
       "      <td>0.823293</td>\n",
       "      <td>0.823293</td>\n",
       "      <td>0.822581</td>\n",
       "      <td>0.822581</td>\n",
       "      <td>0.822581</td>\n",
       "    </tr>\n",
       "    <tr>\n",
       "      <th>ndvi</th>\n",
       "      <td>0.920792</td>\n",
       "      <td>0.914754</td>\n",
       "      <td>0.908795</td>\n",
       "      <td>0.909091</td>\n",
       "      <td>0.903226</td>\n",
       "      <td>0.903226</td>\n",
       "      <td>0.903226</td>\n",
       "      <td>0.897436</td>\n",
       "      <td>0.891374</td>\n",
       "      <td>0.886076</td>\n",
       "      <td>...</td>\n",
       "      <td>0.831325</td>\n",
       "      <td>0.830645</td>\n",
       "      <td>0.830645</td>\n",
       "      <td>0.830645</td>\n",
       "      <td>0.830645</td>\n",
       "      <td>0.830645</td>\n",
       "      <td>0.830645</td>\n",
       "      <td>0.829960</td>\n",
       "      <td>0.829960</td>\n",
       "      <td>0.829960</td>\n",
       "    </tr>\n",
       "    <tr>\n",
       "      <th>cigreen</th>\n",
       "      <td>2.890625</td>\n",
       "      <td>2.890625</td>\n",
       "      <td>2.861538</td>\n",
       "      <td>2.818182</td>\n",
       "      <td>2.776119</td>\n",
       "      <td>2.776119</td>\n",
       "      <td>2.776119</td>\n",
       "      <td>2.735294</td>\n",
       "      <td>2.695652</td>\n",
       "      <td>2.671429</td>\n",
       "      <td>...</td>\n",
       "      <td>3.340909</td>\n",
       "      <td>3.340909</td>\n",
       "      <td>3.340909</td>\n",
       "      <td>3.318182</td>\n",
       "      <td>3.318182</td>\n",
       "      <td>3.318182</td>\n",
       "      <td>3.318182</td>\n",
       "      <td>3.318182</td>\n",
       "      <td>3.318182</td>\n",
       "      <td>3.222222</td>\n",
       "    </tr>\n",
       "    <tr>\n",
       "      <th>cired</th>\n",
       "      <td>0.168675</td>\n",
       "      <td>0.176707</td>\n",
       "      <td>0.171315</td>\n",
       "      <td>0.170635</td>\n",
       "      <td>0.169960</td>\n",
       "      <td>0.169960</td>\n",
       "      <td>0.173913</td>\n",
       "      <td>0.169291</td>\n",
       "      <td>0.168627</td>\n",
       "      <td>0.167315</td>\n",
       "      <td>...</td>\n",
       "      <td>0.209424</td>\n",
       "      <td>0.204188</td>\n",
       "      <td>0.204188</td>\n",
       "      <td>0.210526</td>\n",
       "      <td>0.210526</td>\n",
       "      <td>0.210526</td>\n",
       "      <td>0.205263</td>\n",
       "      <td>0.205263</td>\n",
       "      <td>0.205263</td>\n",
       "      <td>0.205263</td>\n",
       "    </tr>\n",
       "    <tr>\n",
       "      <th>mcari</th>\n",
       "      <td>1.583673</td>\n",
       "      <td>1.583784</td>\n",
       "      <td>1.568000</td>\n",
       "      <td>1.562914</td>\n",
       "      <td>1.557895</td>\n",
       "      <td>1.557895</td>\n",
       "      <td>1.552941</td>\n",
       "      <td>1.542857</td>\n",
       "      <td>1.538065</td>\n",
       "      <td>1.528662</td>\n",
       "      <td>...</td>\n",
       "      <td>1.664865</td>\n",
       "      <td>1.642857</td>\n",
       "      <td>1.642857</td>\n",
       "      <td>1.628319</td>\n",
       "      <td>1.628319</td>\n",
       "      <td>1.628319</td>\n",
       "      <td>1.621239</td>\n",
       "      <td>1.621239</td>\n",
       "      <td>1.607018</td>\n",
       "      <td>1.607018</td>\n",
       "    </tr>\n",
       "    <tr>\n",
       "      <th>ndwi</th>\n",
       "      <td>0.079482</td>\n",
       "      <td>0.079190</td>\n",
       "      <td>0.076923</td>\n",
       "      <td>0.078611</td>\n",
       "      <td>0.078324</td>\n",
       "      <td>0.078324</td>\n",
       "      <td>0.078040</td>\n",
       "      <td>0.077758</td>\n",
       "      <td>0.077477</td>\n",
       "      <td>0.077199</td>\n",
       "      <td>...</td>\n",
       "      <td>0.035874</td>\n",
       "      <td>0.035874</td>\n",
       "      <td>0.035874</td>\n",
       "      <td>0.036036</td>\n",
       "      <td>0.036036</td>\n",
       "      <td>0.036036</td>\n",
       "      <td>0.036036</td>\n",
       "      <td>0.036036</td>\n",
       "      <td>0.036036</td>\n",
       "      <td>0.033860</td>\n",
       "    </tr>\n",
       "  </tbody>\n",
       "</table>\n",
       "<p>10 rows × 160 columns</p>\n",
       "</div>"
      ],
      "text/plain": [
       "               0          1          2          3          4          5    \\\n",
       "wi        1.043011   1.042705   1.042553   1.042403   1.042254   1.042254   \n",
       "psraa    22.384615  20.857143  19.533333  19.600000  18.437500  18.437500   \n",
       "psrab    11.192308  11.230769  10.851852  10.500000  10.535714  10.535714   \n",
       "psrac    22.384615  20.857143  19.533333  18.375000  18.437500  18.437500   \n",
       "sipi      0.914474   0.908497   0.902597   0.902913   0.897106   0.897106   \n",
       "ndvi      0.920792   0.914754   0.908795   0.909091   0.903226   0.903226   \n",
       "cigreen   2.890625   2.890625   2.861538   2.818182   2.776119   2.776119   \n",
       "cired     0.168675   0.176707   0.171315   0.170635   0.169960   0.169960   \n",
       "mcari     1.583673   1.583784   1.568000   1.562914   1.557895   1.557895   \n",
       "ndwi      0.079482   0.079190   0.076923   0.078611   0.078324   0.078324   \n",
       "\n",
       "               6          7          8          9      ...            150  \\\n",
       "wi        1.042105   1.041958   1.041812   1.041522    ...       1.017544   \n",
       "psraa    18.437500  17.411765  16.444444  15.684211    ...      10.363636   \n",
       "psrab    10.172414  10.206897   9.866667   9.612903    ...       8.769231   \n",
       "psrac    17.352941  17.411765  16.444444  15.684211    ...      11.400000   \n",
       "sipi      0.897106   0.891374   0.885350   0.880126    ...       0.824000   \n",
       "ndvi      0.903226   0.897436   0.891374   0.886076    ...       0.831325   \n",
       "cigreen   2.776119   2.735294   2.695652   2.671429    ...       3.340909   \n",
       "cired     0.173913   0.169291   0.168627   0.167315    ...       0.209424   \n",
       "mcari     1.552941   1.542857   1.538065   1.528662    ...       1.664865   \n",
       "ndwi      0.078040   0.077758   0.077477   0.077199    ...       0.035874   \n",
       "\n",
       "               151        152        153        154        155        156  \\\n",
       "wi        1.013158   1.013158   1.017621   1.017621   1.017621   1.017621   \n",
       "psraa    10.318182  10.318182  10.318182  10.318182  10.318182  10.318182   \n",
       "psrab     8.730769   8.730769   8.730769   8.730769   8.730769   8.730769   \n",
       "psrac    11.350000  11.350000  11.350000  11.350000  11.350000  11.350000   \n",
       "sipi      0.823293   0.823293   0.823293   0.823293   0.823293   0.823293   \n",
       "ndvi      0.830645   0.830645   0.830645   0.830645   0.830645   0.830645   \n",
       "cigreen   3.340909   3.340909   3.318182   3.318182   3.318182   3.318182   \n",
       "cired     0.204188   0.204188   0.210526   0.210526   0.210526   0.205263   \n",
       "mcari     1.642857   1.642857   1.628319   1.628319   1.628319   1.621239   \n",
       "ndwi      0.035874   0.035874   0.036036   0.036036   0.036036   0.036036   \n",
       "\n",
       "               157        158        159  \n",
       "wi        1.017621   1.013216   1.013216  \n",
       "psraa    10.272727  10.272727  10.272727  \n",
       "psrab     8.692308   8.692308   8.692308  \n",
       "psrac    11.300000  11.300000  11.300000  \n",
       "sipi      0.822581   0.822581   0.822581  \n",
       "ndvi      0.829960   0.829960   0.829960  \n",
       "cigreen   3.318182   3.318182   3.222222  \n",
       "cired     0.205263   0.205263   0.205263  \n",
       "mcari     1.621239   1.607018   1.607018  \n",
       "ndwi      0.036036   0.036036   0.033860  \n",
       "\n",
       "[10 rows x 160 columns]"
      ]
     },
     "execution_count": 249,
     "metadata": {},
     "output_type": "execute_result"
    }
   ],
   "source": [
    "dfnnew"
   ]
  },
  {
   "cell_type": "code",
   "execution_count": 250,
   "metadata": {},
   "outputs": [],
   "source": [
    "\n",
    "a1=dfnnew.iloc[0:1,:]\n",
    "a2=dfnnew.iloc[1:2,:]\n",
    "a3=dfnnew.iloc[2:3,:]\n",
    "a4=dfnnew.iloc[3:4,:]\n",
    "a5=dfnnew.iloc[4:5,:]\n",
    "a6=dfnnew.iloc[5:6,:]\n",
    "a7=dfnnew.iloc[6:7,:]\n",
    "a8=dfnnew.iloc[7:8,:]\n",
    "a9=dfnnew.iloc[8:9,:]\n",
    "a10=dfnnew.iloc[9:10,:]"
   ]
  },
  {
   "cell_type": "code",
   "execution_count": 251,
   "metadata": {},
   "outputs": [
    {
     "data": {
      "text/plain": [
       "(array([21., 25., 19.,  4.,  0.,  9., 17., 32., 22., 11.]),\n",
       " array([1.00851064, 1.01296931, 1.01742798, 1.02188665, 1.02634532,\n",
       "        1.03080399, 1.03526266, 1.03972133, 1.04418   , 1.04863867,\n",
       "        1.05309735]),\n",
       " <a list of 10 Patch objects>)"
      ]
     },
     "execution_count": 251,
     "metadata": {},
     "output_type": "execute_result"
    },
    {
     "data": {
      "image/png": "[encoded data removed]",
      "text/plain": [
       "<Figure size 432x288 with 1 Axes>"
      ]
     },
     "metadata": {
      "needs_background": "light"
     },
     "output_type": "display_data"
    }
   ],
   "source": [
    "plt.hist(a1)"
   ]
  },
  {
   "cell_type": "code",
   "execution_count": 252,
   "metadata": {},
   "outputs": [
    {
     "data": {
      "text/plain": [
       "(array([10., 28., 24., 21., 19., 19., 19.,  9.,  3.,  8.]),\n",
       " array([ 3.0516129 ,  5.73395161,  8.41629032, 11.09862903, 13.78096774,\n",
       "        16.46330645, 19.14564516, 21.82798387, 24.51032258, 27.19266129,\n",
       "        29.875     ]),\n",
       " <a list of 10 Patch objects>)"
      ]
     },
     "execution_count": 252,
     "metadata": {},
     "output_type": "execute_result"
    },
    {
     "data": {
      "image/png": "[encoded data removed]",
      "text/plain": [
       "<Figure size 432x288 with 1 Axes>"
      ]
     },
     "metadata": {
      "needs_background": "light"
     },
     "output_type": "display_data"
    }
   ],
   "source": [
    "plt.hist(a2)"
   ]
  },
  {
   "cell_type": "code",
   "execution_count": 253,
   "metadata": {},
   "outputs": [
    {
     "data": {
      "text/plain": [
       "[wi    0.000183\n",
       " dtype: float64, psraa    45.786952\n",
       " dtype: float64, psrab    4.732595\n",
       " dtype: float64, psrac    72.951818\n",
       " dtype: float64, sipi    0.010686\n",
       " dtype: float64, ndvi    0.010733\n",
       " dtype: float64, cigreen    0.325989\n",
       " dtype: float64, cired    0.001294\n",
       " dtype: float64, mcari    0.02133\n",
       " dtype: float64, ndwi    0.000408\n",
       " dtype: float64]"
      ]
     },
     "execution_count": 253,
     "metadata": {},
     "output_type": "execute_result"
    }
   ],
   "source": [
    "[a1.var(axis=1),a2.var(axis=1),a3.var(axis=1),a4.var(axis=1),a5.var(axis=1),a6.var(axis=1),a7.var(axis=1),a8.var(axis=1),a9.var(axis=1),a10.var(axis=1)]"
   ]
  },
  {
   "cell_type": "code",
   "execution_count": 312,
   "metadata": {},
   "outputs": [
    {
     "data": {
      "text/plain": [
       "<matplotlib.axes._subplots.AxesSubplot at 0x1d231456080>"
      ]
     },
     "execution_count": 312,
     "metadata": {},
     "output_type": "execute_result"
    },
    {
     "data": {
      "image/png": "[encoded data removed]",
      "text/plain": [
       "<Figure size 432x288 with 1 Axes>"
      ]
     },
     "metadata": {
      "needs_background": "light"
     },
     "output_type": "display_data"
    }
   ],
   "source": [
    "sns.scatterplot(ndvi,psraa)"
   ]
  },
  {
   "cell_type": "code",
   "execution_count": 259,
   "metadata": {},
   "outputs": [
    {
     "data": {
      "text/plain": [
       "<matplotlib.axes._subplots.AxesSubplot at 0x1d230c63fd0>"
      ]
     },
     "execution_count": 259,
     "metadata": {},
     "output_type": "execute_result"
    },
    {
     "data": {
      "image/png": "[encoded data removed]",
      "text/plain": [
       "<Figure size 432x288 with 1 Axes>"
      ]
     },
     "metadata": {
      "needs_background": "light"
     },
     "output_type": "display_data"
    }
   ],
   "source": [
    "sns.scatterplot(psrab,ndvi)"
   ]
  },
  {
   "cell_type": "code",
   "execution_count": 260,
   "metadata": {},
   "outputs": [
    {
     "data": {
      "text/plain": [
       "<matplotlib.axes._subplots.AxesSubplot at 0x1d230ca9ba8>"
      ]
     },
     "execution_count": 260,
     "metadata": {},
     "output_type": "execute_result"
    },
    {
     "data": {
      "image/png": "[encoded data removed]",
      "text/plain": [
       "<Figure size 432x288 with 1 Axes>"
      ]
     },
     "metadata": {
      "needs_background": "light"
     },
     "output_type": "display_data"
    }
   ],
   "source": [
    "sns.scatterplot(psrac,ndvi)"
   ]
  },
  {
   "cell_type": "code",
   "execution_count": null,
   "metadata": {},
   "outputs": [],
   "source": []
  },
  {
   "cell_type": "markdown",
   "metadata": {},
   "source": [
    "## PSRAa vs NDVI"
   ]
  },
  {
   "cell_type": "code",
   "execution_count": 275,
   "metadata": {},
   "outputs": [],
   "source": [
    "dfnnew_trans=dfnnew.T"
   ]
  },
  {
   "cell_type": "code",
   "execution_count": 290,
   "metadata": {},
   "outputs": [],
   "source": [
    "from sklearn.model_selection import train_test_split"
   ]
  },
  {
   "cell_type": "code",
   "execution_count": 291,
   "metadata": {},
   "outputs": [],
   "source": [
    "X=dfnnew_trans['ndvi']"
   ]
  },
  {
   "cell_type": "code",
   "execution_count": 292,
   "metadata": {},
   "outputs": [],
   "source": [
    "y=dfnnew_trans['psraa']"
   ]
  },
  {
   "cell_type": "code",
   "execution_count": 293,
   "metadata": {},
   "outputs": [],
   "source": [
    "X_train,X_test,y_train,y_test=train_test_split(X,y,test_size=0.125,random_state=101)"
   ]
  },
  {
   "cell_type": "code",
   "execution_count": 294,
   "metadata": {},
   "outputs": [],
   "source": [
    "from sklearn.linear_model import LinearRegression"
   ]
  },
  {
   "cell_type": "code",
   "execution_count": 295,
   "metadata": {},
   "outputs": [],
   "source": [
    "lm=LinearRegression()"
   ]
  },
  {
   "cell_type": "code",
   "execution_count": 303,
   "metadata": {},
   "outputs": [],
   "source": [
    "X_train=np.asarray(X_train).reshape(-1,1)\n",
    "y_train=np.asarray(y_train)\n",
    "X_test=np.asarray(X_test).reshape(-1,1)"
   ]
  },
  {
   "cell_type": "code",
   "execution_count": 297,
   "metadata": {},
   "outputs": [
    {
     "data": {
      "text/plain": [
       "(140, 1)"
      ]
     },
     "execution_count": 297,
     "metadata": {},
     "output_type": "execute_result"
    }
   ],
   "source": [
    "X_train.shape"
   ]
  },
  {
   "cell_type": "code",
   "execution_count": 300,
   "metadata": {},
   "outputs": [
    {
     "name": "stderr",
     "output_type": "stream",
     "text": [
      "C:\\Users\\LENOVO\\Anaconda3new\\lib\\site-packages\\scipy\\stats\\stats.py:1713: FutureWarning: Using a non-tuple sequence for multidimensional indexing is deprecated; use `arr[tuple(seq)]` instead of `arr[seq]`. In the future this will be interpreted as an array index, `arr[np.array(seq)]`, which will result either in an error or a different result.\n",
      "  return np.add.reduce(sorted[indexer] * weights, axis=axis) / sumval\n"
     ]
    },
    {
     "data": {
      "text/plain": [
       "<seaborn.axisgrid.FacetGrid at 0x1d2312a3cf8>"
      ]
     },
     "execution_count": 300,
     "metadata": {},
     "output_type": "execute_result"
    },
    {
     "data": {
      "image/png": "[encoded data removed]",
      "text/plain": [
       "<Figure size 360x360 with 1 Axes>"
      ]
     },
     "metadata": {
      "needs_background": "light"
     },
     "output_type": "display_data"
    }
   ],
   "source": [
    "sns.lmplot('ndvi','psraa',data=dfnnew_trans)"
   ]
  },
  {
   "cell_type": "code",
   "execution_count": 301,
   "metadata": {},
   "outputs": [
    {
     "data": {
      "text/plain": [
       "LinearRegression(copy_X=True, fit_intercept=True, n_jobs=None, normalize=False)"
      ]
     },
     "execution_count": 301,
     "metadata": {},
     "output_type": "execute_result"
    }
   ],
   "source": [
    "lm.fit(X_train,y_train)"
   ]
  },
  {
   "cell_type": "code",
   "execution_count": 304,
   "metadata": {},
   "outputs": [],
   "source": [
    "predictions = lm.predict(X_test)"
   ]
  },
  {
   "cell_type": "code",
   "execution_count": 305,
   "metadata": {},
   "outputs": [
    {
     "data": {
      "text/plain": [
       "Text(0, 0.5, 'psraa')"
      ]
     },
     "execution_count": 305,
     "metadata": {},
     "output_type": "execute_result"
    },
    {
     "data": {
      "image/png": "[encoded data removed]",
      "text/plain": [
       "<Figure size 432x288 with 1 Axes>"
      ]
     },
     "metadata": {
      "needs_background": "light"
     },
     "output_type": "display_data"
    }
   ],
   "source": [
    "plt.scatter(y_test,predictions)\n",
    "plt.xlabel('ndvi')\n",
    "plt.ylabel('psraa')"
   ]
  },
  {
   "cell_type": "code",
   "execution_count": 306,
   "metadata": {},
   "outputs": [
    {
     "data": {
      "text/plain": [
       "0.7259245270480283"
      ]
     },
     "execution_count": 306,
     "metadata": {},
     "output_type": "execute_result"
    }
   ],
   "source": [
    "from sklearn import metrics\n",
    "metrics.r2_score(y_test,predictions)"
   ]
  },
  {
   "cell_type": "code",
   "execution_count": null,
   "metadata": {},
   "outputs": [],
   "source": []
  },
  {
   "cell_type": "code",
   "execution_count": 307,
   "metadata": {},
   "outputs": [],
   "source": [
    "import scipy"
   ]
  },
  {
   "cell_type": "code",
   "execution_count": 355,
   "metadata": {},
   "outputs": [
    {
     "data": {
      "text/plain": [
       "(array([0.01054872, 8.29442304]), array([[ 3.19946216e-06, -3.35855226e-04],\n",
       "        [-3.35855226e-04,  3.53173836e-02]]))"
      ]
     },
     "execution_count": 355,
     "metadata": {},
     "output_type": "execute_result"
    }
   ],
   "source": [
    "scipy.optimize.curve_fit(lambda t,a,b: a*np.exp(b*t),np.asarray(X).squeeze(), np.asarray(y).squeeze(),    p0=(0.6, 7))"
   ]
  },
  {
   "cell_type": "code",
   "execution_count": 392,
   "metadata": {},
   "outputs": [
    {
     "data": {
      "text/plain": [
       "[<matplotlib.lines.Line2D at 0x1d23174bd30>]"
      ]
     },
     "execution_count": 392,
     "metadata": {},
     "output_type": "execute_result"
    },
    {
     "data": {
      "image/png": "[encoded data removed]",
      "text/plain": [
       "<Figure size 432x288 with 1 Axes>"
      ]
     },
     "metadata": {
      "needs_background": "light"
     },
     "output_type": "display_data"
    }
   ],
   "source": [
    "x=np.linspace(0.5,1,100)\n",
    "#plt.xlim(0,1)\n",
    "\n",
    "#plt.ylim(0,40)\n",
    "\n",
    "#plt.xticks(np.arange(0, 1, 0.1))\n",
    "#plt.yticks(np.arange(0, 35, 5))\n",
    "plt.plot(0.01054872*np.exp(8.29442304*x))"
   ]
  },
  {
   "cell_type": "code",
   "execution_count": 346,
   "metadata": {},
   "outputs": [],
   "source": [
    "s=np.arange(0,35)"
   ]
  },
  {
   "cell_type": "code",
   "execution_count": 364,
   "metadata": {},
   "outputs": [
    {
     "data": {
      "text/plain": [
       "<matplotlib.collections.PathCollection at 0x1d232409ef0>"
      ]
     },
     "execution_count": 364,
     "metadata": {},
     "output_type": "execute_result"
    },
    {
     "data": {
      "image/png": "[encoded data removed]",
      "text/plain": [
       "<Figure size 432x288 with 1 Axes>"
      ]
     },
     "metadata": {
      "needs_background": "light"
     },
     "output_type": "display_data"
    }
   ],
   "source": [
    "\n",
    "plt.scatter(dfnnew_trans['ndvi'],dfnnew_trans['psraa'],c=\"green\")\n",
    "\n",
    "#x=np.linspace(0.1,1,100)\n",
    "#plt.plot(0.01054872*np.exp(8.29442304*x))\n",
    "#plt.plot((-np.log(0.001028123)+np.log(s))/(8.3229148),c=\"red\")\n",
    "\n",
    "#plt.gca().invert_yaxis()\n",
    "#plt.show()"
   ]
  },
  {
   "cell_type": "code",
   "execution_count": 394,
   "metadata": {},
   "outputs": [],
   "source": [
    "pred=list()\n",
    "for x in ndvi:\n",
    "    pred.append(0.01054872*np.exp(8.29442304*x))\n",
    "    \n",
    "    \n",
    "    "
   ]
  },
  {
   "cell_type": "code",
   "execution_count": 398,
   "metadata": {},
   "outputs": [
    {
     "data": {
      "text/plain": [
       "array([21.88252304, 20.81360201, 19.80981807, 19.85853379, 18.91558501,\n",
       "       18.91558501, 18.91558501, 18.0286513 , 17.14455527, 16.40749128,\n",
       "       16.40749128, 26.27729493, 26.27729493, 26.27729493, 26.32797207,\n",
       "       26.32797207, 26.32797207, 26.32797207, 26.32797207, 26.32797207,\n",
       "       26.27729493,  0.76705795,  0.75179595,  0.75179595,  0.75179595,\n",
       "        0.75179595,  0.75179595,  0.73688485,  0.7469664 ,  0.7469664 ,\n",
       "        0.7469664 , 17.78058299, 21.19705101, 21.14641456, 21.09554746,\n",
       "       21.09554746, 22.20120481, 22.15085617, 22.10026585, 22.04943224,\n",
       "       23.34104732, 18.9308815 , 18.97666042, 18.14381664, 18.14381664,\n",
       "       17.35679554, 17.35679554, 16.61262897, 16.61262897, 16.61262897,\n",
       "       15.90856767, 19.51333446, 19.51333446, 18.56804853, 18.61827634,\n",
       "       18.66830932, 17.78058299, 17.83056374, 16.99571702, 17.04550424,\n",
       "       17.09511675, 23.6116429 , 23.71780182, 22.41006577, 22.4640821 ,\n",
       "       22.57127533, 22.67736272, 21.47373175, 20.46662205, 19.54023868,\n",
       "       18.68613121, 21.59400823, 21.66686212, 20.15727535, 20.37648384,\n",
       "       20.4486502 , 20.66249173, 20.73289854, 19.30143696, 19.37247457,\n",
       "       19.37247457, 13.96772365, 13.96772365, 13.96772365, 13.96772365,\n",
       "       13.96772365, 13.0985917 , 13.0985917 , 13.0985917 , 13.0985917 ,\n",
       "       13.0985917 , 15.55324834, 15.62497269, 15.62497269, 15.69636523,\n",
       "       14.68781803, 14.75814538, 13.82986829, 13.89893277, 13.89893277,\n",
       "       13.96772365,  5.30721134,  5.30721134,  5.30721134,  5.26675722,\n",
       "        5.26675722,  5.26675722,  5.22631523,  5.22631523,  5.51575964,\n",
       "        5.51575964,  5.22631523,  5.22631523,  5.22631523,  5.22631523,\n",
       "        5.22631523,  5.18588656,  5.18588656,  5.18588656,  5.18588656,\n",
       "        5.18588656,  5.18588656,  5.14547242,  5.14547242,  5.14547242,\n",
       "        5.14547242,  5.14547242,  5.10507406,  5.10507406, 11.37367023,\n",
       "       11.31463704, 11.31463704, 11.31463704, 11.31463704, 11.31463704,\n",
       "       11.31463704, 11.31463704, 11.31463704, 11.31463704, 11.31463704,\n",
       "       11.31463704, 11.25544354, 11.25544354, 11.19608989, 11.19608989,\n",
       "       11.19608989, 11.19608989, 11.13657627, 10.47728118, 10.47728118,\n",
       "       10.41881159, 10.36020071, 10.36020071, 10.36020071, 10.36020071,\n",
       "       10.36020071, 10.36020071, 10.30144898, 10.30144898, 10.30144898])"
      ]
     },
     "execution_count": 398,
     "metadata": {},
     "output_type": "execute_result"
    }
   ],
   "source": [
    "pred=np.array(pred)\n",
    "pred"
   ]
  },
  {
   "cell_type": "code",
   "execution_count": 396,
   "metadata": {},
   "outputs": [
    {
     "data": {
      "text/plain": [
       "array([22.38461538, 20.85714286, 19.53333333, 19.6       , 18.4375    ,\n",
       "       18.4375    , 18.4375    , 17.41176471, 16.44444444, 15.68421053,\n",
       "       14.9       , 26.44444444, 26.44444444, 29.75      , 29.875     ,\n",
       "       29.875     , 29.875     , 29.875     , 29.875     , 29.875     ,\n",
       "       29.75      ,  3.07792208,  3.07792208,  3.07792208,  3.07792208,\n",
       "        3.07792208,  3.05806452,  3.05806452,  3.0516129 ,  3.0516129 ,\n",
       "        3.0516129 , 13.85714286, 18.46666667, 19.71428571, 19.64285714,\n",
       "       19.64285714, 21.        , 22.66666667, 22.58333333, 22.5       ,\n",
       "       24.54545455, 18.52941176, 18.58823529, 17.61111111, 17.61111111,\n",
       "       16.73684211, 15.9       , 15.95      , 15.19047619, 15.19047619,\n",
       "       15.23809524, 17.9375    , 17.9375    , 18.        , 18.0625    ,\n",
       "       17.05882353, 17.11764706, 16.22222222, 15.42105263, 15.47368421,\n",
       "       15.52631579, 22.54545455, 22.72727273, 22.90909091, 23.        ,\n",
       "       21.25      , 21.41666667, 19.92307692, 18.78571429, 19.07142857,\n",
       "       16.9375    , 21.11111111, 21.22222222, 21.44444444, 21.77777778,\n",
       "       21.88888889, 20.        , 20.1       , 20.2       , 20.3       ,\n",
       "       20.3       , 12.44444444, 13.17647059, 13.17647059, 13.17647059,\n",
       "       13.17647059, 13.17647059, 12.44444444, 12.44444444, 12.44444444,\n",
       "       12.44444444, 15.61538462, 14.57142857, 14.57142857, 14.64285714,\n",
       "       13.73333333, 13.8       , 13.86666667, 13.0625    , 13.0625    ,\n",
       "       13.125     ,  6.8       ,  6.8       ,  6.8       ,  6.77142857,\n",
       "        6.77142857,  6.77142857,  6.74285714,  6.74285714,  6.74285714,\n",
       "        6.74285714,  6.74285714,  6.74285714,  6.74285714,  6.55555556,\n",
       "        6.55555556,  6.52777778,  6.52777778,  6.52777778,  6.52777778,\n",
       "        6.52777778,  6.52777778,  6.5       ,  6.5       ,  6.5       ,\n",
       "        6.5       ,  6.5       ,  6.47222222,  6.47222222, 11.65      ,\n",
       "       11.6       , 11.6       , 11.6       , 11.6       , 11.6       ,\n",
       "       11.04761905, 11.6       , 11.04761905, 11.04761905, 11.04761905,\n",
       "       11.04761905, 11.        , 11.        , 10.95238095, 10.95238095,\n",
       "       10.95238095, 10.95238095, 10.9047619 , 10.40909091, 10.40909091,\n",
       "       10.36363636, 10.31818182, 10.31818182, 10.31818182, 10.31818182,\n",
       "       10.31818182, 10.31818182, 10.27272727, 10.27272727, 10.27272727])"
      ]
     },
     "execution_count": 396,
     "metadata": {},
     "output_type": "execute_result"
    }
   ],
   "source": [
    "psraa"
   ]
  },
  {
   "cell_type": "code",
   "execution_count": 399,
   "metadata": {},
   "outputs": [
    {
     "data": {
      "text/plain": [
       "0.9571282302410002"
      ]
     },
     "execution_count": 399,
     "metadata": {},
     "output_type": "execute_result"
    }
   ],
   "source": [
    "from sklearn import metrics\n",
    "metrics.r2_score(psraa,pred)"
   ]
  },
  {
   "cell_type": "markdown",
   "metadata": {},
   "source": [
    "## SIPI vs NDVI"
   ]
  },
  {
   "cell_type": "code",
   "execution_count": 405,
   "metadata": {},
   "outputs": [
    {
     "data": {
      "text/plain": [
       "<matplotlib.axes._subplots.AxesSubplot at 0x1d233cc9b00>"
      ]
     },
     "execution_count": 405,
     "metadata": {},
     "output_type": "execute_result"
    },
    {
     "data": {
      "image/png": "[encoded data removed]",
      "text/plain": [
       "<Figure size 432x288 with 1 Axes>"
      ]
     },
     "metadata": {
      "needs_background": "light"
     },
     "output_type": "display_data"
    }
   ],
   "source": [
    "sns.scatterplot(ndvi,sipi)"
   ]
  },
  {
   "cell_type": "code",
   "execution_count": 407,
   "metadata": {},
   "outputs": [],
   "source": [
    "X1=dfnnew_trans['ndvi']\n",
    "y1=dfnnew_trans['sipi']"
   ]
  },
  {
   "cell_type": "code",
   "execution_count": 408,
   "metadata": {},
   "outputs": [],
   "source": [
    "X1_train,X1_test,y1_train,y1_test=train_test_split(X1,y1,test_size=0.125,random_state=101)"
   ]
  },
  {
   "cell_type": "code",
   "execution_count": 409,
   "metadata": {},
   "outputs": [],
   "source": [
    "X1_train=np.asarray(X1_train).reshape(-1,1)\n",
    "y1_train=np.asarray(y1_train)\n",
    "X1_test=np.asarray(X1_test).reshape(-1,1)"
   ]
  },
  {
   "cell_type": "code",
   "execution_count": 410,
   "metadata": {},
   "outputs": [
    {
     "name": "stderr",
     "output_type": "stream",
     "text": [
      "C:\\Users\\LENOVO\\Anaconda3new\\lib\\site-packages\\scipy\\stats\\stats.py:1713: FutureWarning: Using a non-tuple sequence for multidimensional indexing is deprecated; use `arr[tuple(seq)]` instead of `arr[seq]`. In the future this will be interpreted as an array index, `arr[np.array(seq)]`, which will result either in an error or a different result.\n",
      "  return np.add.reduce(sorted[indexer] * weights, axis=axis) / sumval\n"
     ]
    },
    {
     "data": {
      "text/plain": [
       "<seaborn.axisgrid.FacetGrid at 0x1d232456898>"
      ]
     },
     "execution_count": 410,
     "metadata": {},
     "output_type": "execute_result"
    },
    {
     "data": {
      "image/png": "[encoded data removed]",
      "text/plain": [
       "<Figure size 360x360 with 1 Axes>"
      ]
     },
     "metadata": {
      "needs_background": "light"
     },
     "output_type": "display_data"
    }
   ],
   "source": [
    "sns.lmplot('ndvi','sipi',data=dfnnew_trans)"
   ]
  },
  {
   "cell_type": "code",
   "execution_count": 412,
   "metadata": {},
   "outputs": [
    {
     "data": {
      "text/plain": [
       "LinearRegression(copy_X=True, fit_intercept=True, n_jobs=None, normalize=False)"
      ]
     },
     "execution_count": 412,
     "metadata": {},
     "output_type": "execute_result"
    }
   ],
   "source": [
    "lm.fit(X1_train,y1_train)"
   ]
  },
  {
   "cell_type": "code",
   "execution_count": 414,
   "metadata": {},
   "outputs": [],
   "source": [
    "predictions1 = lm.predict(X1_test)"
   ]
  },
  {
   "cell_type": "code",
   "execution_count": 415,
   "metadata": {},
   "outputs": [
    {
     "data": {
      "text/plain": [
       "0.9983609452016121"
      ]
     },
     "execution_count": 415,
     "metadata": {},
     "output_type": "execute_result"
    }
   ],
   "source": [
    "from sklearn import metrics\n",
    "metrics.r2_score(y1_test,predictions1)"
   ]
  },
  {
   "cell_type": "code",
   "execution_count": null,
   "metadata": {},
   "outputs": [],
   "source": []
  }
 ],
 "metadata": {
  "kernelspec": {
   "display_name": "Python 3",
   "language": "python",
   "name": "python3"
  },
  "language_info": {
   "codemirror_mode": {
    "name": "ipython",
    "version": 3
   },
   "file_extension": ".py",
   "mimetype": "text/x-python",
   "name": "python",
   "nbconvert_exporter": "python",
   "pygments_lexer": "ipython3",
   "version": "3.7.1"
  }
 },
 "nbformat": 4,
 "nbformat_minor": 2
}
