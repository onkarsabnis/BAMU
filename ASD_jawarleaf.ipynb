{
 "cells": [
  {
   "cell_type": "code",
   "execution_count": 1,
   "metadata": {},
   "outputs": [],
   "source": [
    "import numpy as np\n",
    "import pandas as pd\n",
    "import matplotlib.pyplot as plt\n",
    "import seaborn as sns\n",
    "%matplotlib inline"
   ]
  },
  {
   "cell_type": "code",
   "execution_count": 16,
   "metadata": {},
   "outputs": [],
   "source": [
    "DF = pd.read_csv('ASD_jawarleaf1.csv', sep=r'\\s*,\\s*',header=0, encoding='ascii', engine='python')"
   ]
  },
  {
   "cell_type": "code",
   "execution_count": 17,
   "metadata": {},
   "outputs": [
    {
     "name": "stdout",
     "output_type": "stream",
     "text": [
      "<class 'pandas.core.frame.DataFrame'>\n",
      "RangeIndex: 215100 entries, 0 to 215099\n",
      "Data columns (total 2 columns):\n",
      "Wavelength     215100 non-null int64\n",
      "Reflectance    215100 non-null float64\n",
      "dtypes: float64(1), int64(1)\n",
      "memory usage: 3.3 MB\n"
     ]
    }
   ],
   "source": [
    "DF.info()"
   ]
  },
  {
   "cell_type": "code",
   "execution_count": null,
   "metadata": {},
   "outputs": [],
   "source": []
  },
  {
   "cell_type": "code",
   "execution_count": 19,
   "metadata": {},
   "outputs": [],
   "source": [
    "a=np.linspace(0,215101,101)\n",
    "\n",
    "a=a.astype(int)"
   ]
  },
  {
   "cell_type": "code",
   "execution_count": 20,
   "metadata": {},
   "outputs": [],
   "source": [
    "df=list()\n",
    "\n",
    "for i in a:\n",
    "    df.append(DF.iloc[i:i+2151])"
   ]
  },
  {
   "cell_type": "code",
   "execution_count": 60,
   "metadata": {},
   "outputs": [],
   "source": [
    "def NDVI(i):\n",
    "    return ((df[i].loc[df[i]['Wavelength'] == 800, 'Reflectance'].iloc[0])-(df[i].loc[df[i]['Wavelength'] == 670, 'Reflectance'].iloc[0]))/((df[i].loc[df[i]['Wavelength'] == 800, 'Reflectance'].iloc[0])+(df[i].loc[df[i]['Wavelength'] == 670, 'Reflectance'].iloc[0]))\n",
    "    "
   ]
  },
  {
   "cell_type": "code",
   "execution_count": 61,
   "metadata": {},
   "outputs": [],
   "source": [
    "ndvi=[]\n",
    "for i in range(0,100):\n",
    "    m= NDVI(i)\n",
    "    ndvi.append(m)"
   ]
  },
  {
   "cell_type": "code",
   "execution_count": 62,
   "metadata": {},
   "outputs": [],
   "source": [
    "def MRESR(i):\n",
    "    return ((df[i].loc[df[i]['Wavelength'] == 750, 'Reflectance'].iloc[0])-(df[i].loc[df[i]['Wavelength'] == 445, 'Reflectance'].iloc[0]))/((df[i].loc[df[i]['Wavelength'] == 705, 'Reflectance'].iloc[0])-(df[i].loc[df[i]['Wavelength'] == 445, 'Reflectance'].iloc[0]))\n",
    "    \n",
    "    "
   ]
  },
  {
   "cell_type": "code",
   "execution_count": 63,
   "metadata": {},
   "outputs": [],
   "source": [
    "mresr=[]\n",
    "for i in range(0,100):\n",
    "    m= MRESR(i)\n",
    "    mresr.append(m)"
   ]
  },
  {
   "cell_type": "code",
   "execution_count": 64,
   "metadata": {},
   "outputs": [],
   "source": [
    "def RENDVI(i):\n",
    "    return ((df[i].loc[df[i]['Wavelength'] == 752, 'Reflectance'].iloc[0])-(df[i].loc[df[i]['Wavelength'] == 701, 'Reflectance'].iloc[0]))/((df[i].loc[df[i]['Wavelength'] == 752, 'Reflectance'].iloc[0])+(df[i].loc[df[i]['Wavelength'] == 701, 'Reflectance'].iloc[0]))\n",
    "    \n",
    "    "
   ]
  },
  {
   "cell_type": "code",
   "execution_count": 65,
   "metadata": {},
   "outputs": [],
   "source": [
    "rendvi=[]\n",
    "for i in range(0,100):\n",
    "    m= RENDVI(i)\n",
    "    rendvi.append(m)"
   ]
  },
  {
   "cell_type": "code",
   "execution_count": 66,
   "metadata": {},
   "outputs": [],
   "source": [
    "def SR(i):\n",
    "    return (df[i].loc[df[i]['Wavelength'] == 864, 'Reflectance'].iloc[0])/(df[i].loc[df[i]['Wavelength'] == 671, 'Reflectance'].iloc[0])\n",
    "    "
   ]
  },
  {
   "cell_type": "code",
   "execution_count": 67,
   "metadata": {},
   "outputs": [],
   "source": [
    "sr=[]\n",
    "for i in range(0,100):\n",
    "    m= SR(i)\n",
    "    sr.append(m)"
   ]
  },
  {
   "cell_type": "code",
   "execution_count": 68,
   "metadata": {},
   "outputs": [],
   "source": [
    "def VOGI(i):\n",
    "    return (df[i].loc[df[i]['Wavelength'] == 742, 'Reflectance'].iloc[0])/(df[i].loc[df[i]['Wavelength'] == 722, 'Reflectance'].iloc[0])\n",
    "    "
   ]
  },
  {
   "cell_type": "code",
   "execution_count": 69,
   "metadata": {},
   "outputs": [],
   "source": [
    "vogi=[]\n",
    "for i in range(0,100):\n",
    "    m= VOGI(i)\n",
    "    vogi.append(m)"
   ]
  },
  {
   "cell_type": "code",
   "execution_count": 70,
   "metadata": {},
   "outputs": [],
   "source": [
    "def MRENDVI(i):\n",
    "    return ((df[i].loc[df[i]['Wavelength'] == 750, 'Reflectance'].iloc[0])-(df[i].loc[df[i]['Wavelength'] == 705, 'Reflectance'].iloc[0]))/((df[i].loc[df[i]['Wavelength'] == 750, 'Reflectance'].iloc[0])+(df[i].loc[df[i]['Wavelength'] == 705, 'Reflectance'].iloc[0])-(2*(df[i].loc[df[i]['Wavelength'] == 445, 'Reflectance'].iloc[0])))\n",
    "    \n",
    "    \n",
    "    "
   ]
  },
  {
   "cell_type": "code",
   "execution_count": 71,
   "metadata": {},
   "outputs": [],
   "source": [
    "mrendvi=[]\n",
    "for i in range(0,100):\n",
    "    m= MRENDVI(i)\n",
    "    mrendvi.append(m)"
   ]
  },
  {
   "cell_type": "code",
   "execution_count": 72,
   "metadata": {},
   "outputs": [],
   "source": [
    "def NR(i):\n",
    "    \n",
    "    k=0\n",
    "    for n in range(600,699):\n",
    "        k=k+(df[i].loc[df[i]['Wavelength'] == n, 'Reflectance'].iloc[0])\n",
    "    return k\n",
    "    "
   ]
  },
  {
   "cell_type": "code",
   "execution_count": 73,
   "metadata": {},
   "outputs": [],
   "source": [
    "def DR(i):\n",
    "    \n",
    "    j=0\n",
    "    for n in range(500,599):\n",
    "        j=j+(df[i].loc[df[i]['Wavelength'] == n, 'Reflectance'].iloc[0])\n",
    "    return j\n",
    "    "
   ]
  },
  {
   "cell_type": "code",
   "execution_count": 74,
   "metadata": {},
   "outputs": [],
   "source": [
    "def RGRI(i):\n",
    "    return NR(i)/DR(i)\n",
    "    "
   ]
  },
  {
   "cell_type": "code",
   "execution_count": 75,
   "metadata": {},
   "outputs": [],
   "source": [
    "rgri=[]\n",
    "for i in range(0,100):\n",
    "    m= RGRI(i)\n",
    "    rgri.append(m)"
   ]
  },
  {
   "cell_type": "code",
   "execution_count": 76,
   "metadata": {},
   "outputs": [],
   "source": [
    "def REVSI(i):\n",
    "    return (((df[i].loc[df[i]['Wavelength'] == 714, 'Reflectance'].iloc[0])+(df[i].loc[df[i]['Wavelength'] == 752, 'Reflectance'].iloc[0]))/2)-(df[i].loc[df[i]['Wavelength'] == 733, 'Reflectance'].iloc[0])"
   ]
  },
  {
   "cell_type": "code",
   "execution_count": 77,
   "metadata": {},
   "outputs": [],
   "source": [
    "revsi=[]\n",
    "for i in range(0,100):\n",
    "    m= REVSI(i)\n",
    "    revsi.append(m)"
   ]
  },
  {
   "cell_type": "code",
   "execution_count": 82,
   "metadata": {},
   "outputs": [],
   "source": [
    "revsi=np.array(revsi)\n",
    "rgri=np.array(rgri)\n",
    "mrendvi=np.array(mrendvi)\n",
    "vogi=np.array(vogi)\n",
    "sr=np.array(sr)\n",
    "ndvi=np.array(ndvi)\n",
    "mresr=np.array(mresr)"
   ]
  },
  {
   "cell_type": "code",
   "execution_count": 83,
   "metadata": {},
   "outputs": [],
   "source": [
    "columns=['mresr','revsi','rgri','mrendvi','vogi','sr','ndvi']\n",
    "\n",
    "dfnnew=pd.DataFrame([mresr,revsi,rgri,mrendvi,vogi,sr,ndvi],columns)"
   ]
  },
  {
   "cell_type": "code",
   "execution_count": 84,
   "metadata": {},
   "outputs": [
    {
     "data": {
      "text/html": [
       "<div>\n",
       "<style scoped>\n",
       "    .dataframe tbody tr th:only-of-type {\n",
       "        vertical-align: middle;\n",
       "    }\n",
       "\n",
       "    .dataframe tbody tr th {\n",
       "        vertical-align: top;\n",
       "    }\n",
       "\n",
       "    .dataframe thead th {\n",
       "        text-align: right;\n",
       "    }\n",
       "</style>\n",
       "<table border=\"1\" class=\"dataframe\">\n",
       "  <thead>\n",
       "    <tr style=\"text-align: right;\">\n",
       "      <th></th>\n",
       "      <th>mresr</th>\n",
       "      <th>revsi</th>\n",
       "      <th>rgri</th>\n",
       "      <th>mrendvi</th>\n",
       "      <th>vogi</th>\n",
       "      <th>sr</th>\n",
       "      <th>ndvi</th>\n",
       "    </tr>\n",
       "  </thead>\n",
       "  <tbody>\n",
       "    <tr>\n",
       "      <th>0</th>\n",
       "      <td>1.626794</td>\n",
       "      <td>-0.0225</td>\n",
       "      <td>0.797435</td>\n",
       "      <td>0.238616</td>\n",
       "      <td>1.091133</td>\n",
       "      <td>3.153846</td>\n",
       "      <td>0.515966</td>\n",
       "    </tr>\n",
       "    <tr>\n",
       "      <th>1</th>\n",
       "      <td>1.629808</td>\n",
       "      <td>-0.0225</td>\n",
       "      <td>0.797530</td>\n",
       "      <td>0.239488</td>\n",
       "      <td>1.091358</td>\n",
       "      <td>3.169014</td>\n",
       "      <td>0.517707</td>\n",
       "    </tr>\n",
       "    <tr>\n",
       "      <th>2</th>\n",
       "      <td>1.625000</td>\n",
       "      <td>-0.0220</td>\n",
       "      <td>0.797128</td>\n",
       "      <td>0.238095</td>\n",
       "      <td>1.091358</td>\n",
       "      <td>3.161972</td>\n",
       "      <td>0.516892</td>\n",
       "    </tr>\n",
       "    <tr>\n",
       "      <th>3</th>\n",
       "      <td>1.620192</td>\n",
       "      <td>-0.0220</td>\n",
       "      <td>0.797251</td>\n",
       "      <td>0.236697</td>\n",
       "      <td>1.088889</td>\n",
       "      <td>3.161972</td>\n",
       "      <td>0.516074</td>\n",
       "    </tr>\n",
       "    <tr>\n",
       "      <th>4</th>\n",
       "      <td>1.612440</td>\n",
       "      <td>-0.0215</td>\n",
       "      <td>0.796864</td>\n",
       "      <td>0.234432</td>\n",
       "      <td>1.089109</td>\n",
       "      <td>3.177305</td>\n",
       "      <td>0.517827</td>\n",
       "    </tr>\n",
       "    <tr>\n",
       "      <th>5</th>\n",
       "      <td>1.620192</td>\n",
       "      <td>-0.0225</td>\n",
       "      <td>0.796926</td>\n",
       "      <td>0.236697</td>\n",
       "      <td>1.089109</td>\n",
       "      <td>3.170213</td>\n",
       "      <td>0.517007</td>\n",
       "    </tr>\n",
       "    <tr>\n",
       "      <th>6</th>\n",
       "      <td>1.615385</td>\n",
       "      <td>-0.0220</td>\n",
       "      <td>0.796658</td>\n",
       "      <td>0.235294</td>\n",
       "      <td>1.089330</td>\n",
       "      <td>3.163121</td>\n",
       "      <td>0.517007</td>\n",
       "    </tr>\n",
       "    <tr>\n",
       "      <th>7</th>\n",
       "      <td>1.618357</td>\n",
       "      <td>-0.0210</td>\n",
       "      <td>0.796670</td>\n",
       "      <td>0.236162</td>\n",
       "      <td>1.086849</td>\n",
       "      <td>3.163121</td>\n",
       "      <td>0.516184</td>\n",
       "    </tr>\n",
       "    <tr>\n",
       "      <th>8</th>\n",
       "      <td>1.615385</td>\n",
       "      <td>-0.0220</td>\n",
       "      <td>0.796814</td>\n",
       "      <td>0.235294</td>\n",
       "      <td>1.087065</td>\n",
       "      <td>3.178571</td>\n",
       "      <td>0.517949</td>\n",
       "    </tr>\n",
       "    <tr>\n",
       "      <th>9</th>\n",
       "      <td>1.613527</td>\n",
       "      <td>-0.0215</td>\n",
       "      <td>0.796886</td>\n",
       "      <td>0.234750</td>\n",
       "      <td>1.087282</td>\n",
       "      <td>3.187050</td>\n",
       "      <td>0.517123</td>\n",
       "    </tr>\n",
       "    <tr>\n",
       "      <th>10</th>\n",
       "      <td>2.357724</td>\n",
       "      <td>-0.0275</td>\n",
       "      <td>0.763348</td>\n",
       "      <td>0.404358</td>\n",
       "      <td>1.191126</td>\n",
       "      <td>4.397590</td>\n",
       "      <td>0.628635</td>\n",
       "    </tr>\n",
       "    <tr>\n",
       "      <th>11</th>\n",
       "      <td>2.338710</td>\n",
       "      <td>-0.0275</td>\n",
       "      <td>0.763251</td>\n",
       "      <td>0.400966</td>\n",
       "      <td>1.194539</td>\n",
       "      <td>4.397590</td>\n",
       "      <td>0.628635</td>\n",
       "    </tr>\n",
       "    <tr>\n",
       "      <th>12</th>\n",
       "      <td>2.338710</td>\n",
       "      <td>-0.0270</td>\n",
       "      <td>0.762528</td>\n",
       "      <td>0.400966</td>\n",
       "      <td>1.190476</td>\n",
       "      <td>4.397590</td>\n",
       "      <td>0.628635</td>\n",
       "    </tr>\n",
       "    <tr>\n",
       "      <th>13</th>\n",
       "      <td>2.338710</td>\n",
       "      <td>-0.0285</td>\n",
       "      <td>0.762191</td>\n",
       "      <td>0.400966</td>\n",
       "      <td>1.187075</td>\n",
       "      <td>4.397590</td>\n",
       "      <td>0.628635</td>\n",
       "    </tr>\n",
       "    <tr>\n",
       "      <th>14</th>\n",
       "      <td>2.338710</td>\n",
       "      <td>-0.0275</td>\n",
       "      <td>0.762284</td>\n",
       "      <td>0.400966</td>\n",
       "      <td>1.187075</td>\n",
       "      <td>4.385542</td>\n",
       "      <td>0.627803</td>\n",
       "    </tr>\n",
       "    <tr>\n",
       "      <th>15</th>\n",
       "      <td>2.338710</td>\n",
       "      <td>-0.0275</td>\n",
       "      <td>0.762508</td>\n",
       "      <td>0.400966</td>\n",
       "      <td>1.187075</td>\n",
       "      <td>4.439024</td>\n",
       "      <td>0.627803</td>\n",
       "    </tr>\n",
       "    <tr>\n",
       "      <th>16</th>\n",
       "      <td>2.338710</td>\n",
       "      <td>-0.0275</td>\n",
       "      <td>0.762274</td>\n",
       "      <td>0.400966</td>\n",
       "      <td>1.191126</td>\n",
       "      <td>4.439024</td>\n",
       "      <td>0.627803</td>\n",
       "    </tr>\n",
       "    <tr>\n",
       "      <th>17</th>\n",
       "      <td>2.330645</td>\n",
       "      <td>-0.0275</td>\n",
       "      <td>0.762353</td>\n",
       "      <td>0.399516</td>\n",
       "      <td>1.191126</td>\n",
       "      <td>4.439024</td>\n",
       "      <td>0.627803</td>\n",
       "    </tr>\n",
       "    <tr>\n",
       "      <th>18</th>\n",
       "      <td>2.330645</td>\n",
       "      <td>-0.0280</td>\n",
       "      <td>0.762261</td>\n",
       "      <td>0.399516</td>\n",
       "      <td>1.183673</td>\n",
       "      <td>4.426829</td>\n",
       "      <td>0.626966</td>\n",
       "    </tr>\n",
       "    <tr>\n",
       "      <th>19</th>\n",
       "      <td>2.330645</td>\n",
       "      <td>-0.0270</td>\n",
       "      <td>0.761963</td>\n",
       "      <td>0.399516</td>\n",
       "      <td>1.187075</td>\n",
       "      <td>4.439024</td>\n",
       "      <td>0.627803</td>\n",
       "    </tr>\n",
       "    <tr>\n",
       "      <th>20</th>\n",
       "      <td>2.351145</td>\n",
       "      <td>-0.0310</td>\n",
       "      <td>0.736318</td>\n",
       "      <td>0.403189</td>\n",
       "      <td>1.207237</td>\n",
       "      <td>4.787500</td>\n",
       "      <td>0.652928</td>\n",
       "    </tr>\n",
       "    <tr>\n",
       "      <th>21</th>\n",
       "      <td>2.343511</td>\n",
       "      <td>-0.0305</td>\n",
       "      <td>0.733282</td>\n",
       "      <td>0.401826</td>\n",
       "      <td>1.201320</td>\n",
       "      <td>4.822785</td>\n",
       "      <td>0.655022</td>\n",
       "    </tr>\n",
       "    <tr>\n",
       "      <th>22</th>\n",
       "      <td>2.353846</td>\n",
       "      <td>-0.0300</td>\n",
       "      <td>0.732435</td>\n",
       "      <td>0.403670</td>\n",
       "      <td>1.205298</td>\n",
       "      <td>4.810127</td>\n",
       "      <td>0.655022</td>\n",
       "    </tr>\n",
       "    <tr>\n",
       "      <th>23</th>\n",
       "      <td>2.346154</td>\n",
       "      <td>-0.0295</td>\n",
       "      <td>0.731270</td>\n",
       "      <td>0.402299</td>\n",
       "      <td>1.201987</td>\n",
       "      <td>4.858974</td>\n",
       "      <td>0.654267</td>\n",
       "    </tr>\n",
       "    <tr>\n",
       "      <th>24</th>\n",
       "      <td>2.320611</td>\n",
       "      <td>-0.0295</td>\n",
       "      <td>0.730293</td>\n",
       "      <td>0.397701</td>\n",
       "      <td>1.191419</td>\n",
       "      <td>4.833333</td>\n",
       "      <td>0.656388</td>\n",
       "    </tr>\n",
       "    <tr>\n",
       "      <th>25</th>\n",
       "      <td>2.312977</td>\n",
       "      <td>-0.0290</td>\n",
       "      <td>0.730525</td>\n",
       "      <td>0.396313</td>\n",
       "      <td>1.188119</td>\n",
       "      <td>4.807692</td>\n",
       "      <td>0.654867</td>\n",
       "    </tr>\n",
       "    <tr>\n",
       "      <th>26</th>\n",
       "      <td>2.297710</td>\n",
       "      <td>-0.0285</td>\n",
       "      <td>0.728511</td>\n",
       "      <td>0.393519</td>\n",
       "      <td>1.178218</td>\n",
       "      <td>4.831169</td>\n",
       "      <td>0.655481</td>\n",
       "    </tr>\n",
       "    <tr>\n",
       "      <th>27</th>\n",
       "      <td>2.290076</td>\n",
       "      <td>-0.0290</td>\n",
       "      <td>0.729088</td>\n",
       "      <td>0.392111</td>\n",
       "      <td>1.178218</td>\n",
       "      <td>4.881579</td>\n",
       "      <td>0.654709</td>\n",
       "    </tr>\n",
       "    <tr>\n",
       "      <th>28</th>\n",
       "      <td>2.282443</td>\n",
       "      <td>-0.0285</td>\n",
       "      <td>0.727605</td>\n",
       "      <td>0.390698</td>\n",
       "      <td>1.175497</td>\n",
       "      <td>4.855263</td>\n",
       "      <td>0.653933</td>\n",
       "    </tr>\n",
       "    <tr>\n",
       "      <th>29</th>\n",
       "      <td>2.265152</td>\n",
       "      <td>-0.0290</td>\n",
       "      <td>0.726510</td>\n",
       "      <td>0.387471</td>\n",
       "      <td>1.171617</td>\n",
       "      <td>4.855263</td>\n",
       "      <td>0.657658</td>\n",
       "    </tr>\n",
       "    <tr>\n",
       "      <th>...</th>\n",
       "      <td>...</td>\n",
       "      <td>...</td>\n",
       "      <td>...</td>\n",
       "      <td>...</td>\n",
       "      <td>...</td>\n",
       "      <td>...</td>\n",
       "      <td>...</td>\n",
       "    </tr>\n",
       "    <tr>\n",
       "      <th>70</th>\n",
       "      <td>1.973451</td>\n",
       "      <td>-0.0190</td>\n",
       "      <td>0.818251</td>\n",
       "      <td>0.327381</td>\n",
       "      <td>1.147679</td>\n",
       "      <td>3.628205</td>\n",
       "      <td>0.565460</td>\n",
       "    </tr>\n",
       "    <tr>\n",
       "      <th>71</th>\n",
       "      <td>1.955752</td>\n",
       "      <td>-0.0180</td>\n",
       "      <td>0.818620</td>\n",
       "      <td>0.323353</td>\n",
       "      <td>1.139831</td>\n",
       "      <td>3.636364</td>\n",
       "      <td>0.566197</td>\n",
       "    </tr>\n",
       "    <tr>\n",
       "      <th>72</th>\n",
       "      <td>1.955357</td>\n",
       "      <td>-0.0180</td>\n",
       "      <td>0.818780</td>\n",
       "      <td>0.323263</td>\n",
       "      <td>1.140426</td>\n",
       "      <td>3.657895</td>\n",
       "      <td>0.564972</td>\n",
       "    </tr>\n",
       "    <tr>\n",
       "      <th>73</th>\n",
       "      <td>1.938053</td>\n",
       "      <td>-0.0185</td>\n",
       "      <td>0.819219</td>\n",
       "      <td>0.319277</td>\n",
       "      <td>1.136752</td>\n",
       "      <td>3.644737</td>\n",
       "      <td>0.566952</td>\n",
       "    </tr>\n",
       "    <tr>\n",
       "      <th>74</th>\n",
       "      <td>1.946429</td>\n",
       "      <td>-0.0180</td>\n",
       "      <td>0.819104</td>\n",
       "      <td>0.321212</td>\n",
       "      <td>1.137339</td>\n",
       "      <td>3.631579</td>\n",
       "      <td>0.565714</td>\n",
       "    </tr>\n",
       "    <tr>\n",
       "      <th>75</th>\n",
       "      <td>1.937500</td>\n",
       "      <td>-0.0175</td>\n",
       "      <td>0.819946</td>\n",
       "      <td>0.319149</td>\n",
       "      <td>1.142241</td>\n",
       "      <td>3.666667</td>\n",
       "      <td>0.565714</td>\n",
       "    </tr>\n",
       "    <tr>\n",
       "      <th>76</th>\n",
       "      <td>1.937500</td>\n",
       "      <td>-0.0175</td>\n",
       "      <td>0.820074</td>\n",
       "      <td>0.319149</td>\n",
       "      <td>1.142241</td>\n",
       "      <td>3.666667</td>\n",
       "      <td>0.565714</td>\n",
       "    </tr>\n",
       "    <tr>\n",
       "      <th>77</th>\n",
       "      <td>1.937500</td>\n",
       "      <td>-0.0175</td>\n",
       "      <td>0.820123</td>\n",
       "      <td>0.319149</td>\n",
       "      <td>1.142241</td>\n",
       "      <td>3.666667</td>\n",
       "      <td>0.570201</td>\n",
       "    </tr>\n",
       "    <tr>\n",
       "      <th>78</th>\n",
       "      <td>1.937500</td>\n",
       "      <td>-0.0180</td>\n",
       "      <td>0.819847</td>\n",
       "      <td>0.319149</td>\n",
       "      <td>1.137931</td>\n",
       "      <td>3.666667</td>\n",
       "      <td>0.568966</td>\n",
       "    </tr>\n",
       "    <tr>\n",
       "      <th>79</th>\n",
       "      <td>1.937500</td>\n",
       "      <td>-0.0180</td>\n",
       "      <td>0.820242</td>\n",
       "      <td>0.319149</td>\n",
       "      <td>1.137931</td>\n",
       "      <td>3.666667</td>\n",
       "      <td>0.568966</td>\n",
       "    </tr>\n",
       "    <tr>\n",
       "      <th>80</th>\n",
       "      <td>2.040404</td>\n",
       "      <td>-0.0180</td>\n",
       "      <td>0.803979</td>\n",
       "      <td>0.342193</td>\n",
       "      <td>1.145923</td>\n",
       "      <td>3.209302</td>\n",
       "      <td>0.523546</td>\n",
       "    </tr>\n",
       "    <tr>\n",
       "      <th>81</th>\n",
       "      <td>2.040404</td>\n",
       "      <td>-0.0180</td>\n",
       "      <td>0.804239</td>\n",
       "      <td>0.342193</td>\n",
       "      <td>1.145923</td>\n",
       "      <td>3.209302</td>\n",
       "      <td>0.523546</td>\n",
       "    </tr>\n",
       "    <tr>\n",
       "      <th>82</th>\n",
       "      <td>2.040404</td>\n",
       "      <td>-0.0175</td>\n",
       "      <td>0.804161</td>\n",
       "      <td>0.342193</td>\n",
       "      <td>1.145923</td>\n",
       "      <td>3.209302</td>\n",
       "      <td>0.523546</td>\n",
       "    </tr>\n",
       "    <tr>\n",
       "      <th>83</th>\n",
       "      <td>2.040404</td>\n",
       "      <td>-0.0175</td>\n",
       "      <td>0.805647</td>\n",
       "      <td>0.342193</td>\n",
       "      <td>1.145923</td>\n",
       "      <td>3.209302</td>\n",
       "      <td>0.523546</td>\n",
       "    </tr>\n",
       "    <tr>\n",
       "      <th>84</th>\n",
       "      <td>2.040404</td>\n",
       "      <td>-0.0175</td>\n",
       "      <td>0.805888</td>\n",
       "      <td>0.342193</td>\n",
       "      <td>1.141026</td>\n",
       "      <td>3.209302</td>\n",
       "      <td>0.523546</td>\n",
       "    </tr>\n",
       "    <tr>\n",
       "      <th>85</th>\n",
       "      <td>2.020000</td>\n",
       "      <td>-0.0175</td>\n",
       "      <td>0.806194</td>\n",
       "      <td>0.337748</td>\n",
       "      <td>1.141026</td>\n",
       "      <td>3.209302</td>\n",
       "      <td>0.519337</td>\n",
       "    </tr>\n",
       "    <tr>\n",
       "      <th>86</th>\n",
       "      <td>2.020000</td>\n",
       "      <td>-0.0180</td>\n",
       "      <td>0.806459</td>\n",
       "      <td>0.337748</td>\n",
       "      <td>1.141631</td>\n",
       "      <td>3.197674</td>\n",
       "      <td>0.519337</td>\n",
       "    </tr>\n",
       "    <tr>\n",
       "      <th>87</th>\n",
       "      <td>2.010000</td>\n",
       "      <td>-0.0170</td>\n",
       "      <td>0.807026</td>\n",
       "      <td>0.335548</td>\n",
       "      <td>1.141631</td>\n",
       "      <td>3.197674</td>\n",
       "      <td>0.518006</td>\n",
       "    </tr>\n",
       "    <tr>\n",
       "      <th>88</th>\n",
       "      <td>2.010000</td>\n",
       "      <td>-0.0170</td>\n",
       "      <td>0.807226</td>\n",
       "      <td>0.335548</td>\n",
       "      <td>1.141631</td>\n",
       "      <td>3.197674</td>\n",
       "      <td>0.518006</td>\n",
       "    </tr>\n",
       "    <tr>\n",
       "      <th>89</th>\n",
       "      <td>2.010000</td>\n",
       "      <td>-0.0170</td>\n",
       "      <td>0.807456</td>\n",
       "      <td>0.335548</td>\n",
       "      <td>1.141631</td>\n",
       "      <td>3.197674</td>\n",
       "      <td>0.518006</td>\n",
       "    </tr>\n",
       "    <tr>\n",
       "      <th>90</th>\n",
       "      <td>2.233333</td>\n",
       "      <td>-0.0180</td>\n",
       "      <td>0.782583</td>\n",
       "      <td>0.381443</td>\n",
       "      <td>1.173516</td>\n",
       "      <td>3.635135</td>\n",
       "      <td>0.567251</td>\n",
       "    </tr>\n",
       "    <tr>\n",
       "      <th>91</th>\n",
       "      <td>2.208791</td>\n",
       "      <td>-0.0180</td>\n",
       "      <td>0.782497</td>\n",
       "      <td>0.376712</td>\n",
       "      <td>1.173516</td>\n",
       "      <td>3.684932</td>\n",
       "      <td>0.565982</td>\n",
       "    </tr>\n",
       "    <tr>\n",
       "      <th>92</th>\n",
       "      <td>2.184783</td>\n",
       "      <td>-0.0190</td>\n",
       "      <td>0.778553</td>\n",
       "      <td>0.372014</td>\n",
       "      <td>1.166667</td>\n",
       "      <td>3.698630</td>\n",
       "      <td>0.567251</td>\n",
       "    </tr>\n",
       "    <tr>\n",
       "      <th>93</th>\n",
       "      <td>2.195652</td>\n",
       "      <td>-0.0185</td>\n",
       "      <td>0.777816</td>\n",
       "      <td>0.374150</td>\n",
       "      <td>1.161435</td>\n",
       "      <td>3.684932</td>\n",
       "      <td>0.567251</td>\n",
       "    </tr>\n",
       "    <tr>\n",
       "      <th>94</th>\n",
       "      <td>2.172043</td>\n",
       "      <td>-0.0185</td>\n",
       "      <td>0.777967</td>\n",
       "      <td>0.369492</td>\n",
       "      <td>1.161435</td>\n",
       "      <td>3.698630</td>\n",
       "      <td>0.567251</td>\n",
       "    </tr>\n",
       "    <tr>\n",
       "      <th>95</th>\n",
       "      <td>2.172043</td>\n",
       "      <td>-0.0185</td>\n",
       "      <td>0.777352</td>\n",
       "      <td>0.369492</td>\n",
       "      <td>1.161435</td>\n",
       "      <td>3.698630</td>\n",
       "      <td>0.567251</td>\n",
       "    </tr>\n",
       "    <tr>\n",
       "      <th>96</th>\n",
       "      <td>2.172043</td>\n",
       "      <td>-0.0185</td>\n",
       "      <td>0.777248</td>\n",
       "      <td>0.369492</td>\n",
       "      <td>1.161435</td>\n",
       "      <td>3.684932</td>\n",
       "      <td>0.567251</td>\n",
       "    </tr>\n",
       "    <tr>\n",
       "      <th>97</th>\n",
       "      <td>2.172043</td>\n",
       "      <td>-0.0185</td>\n",
       "      <td>0.777361</td>\n",
       "      <td>0.369492</td>\n",
       "      <td>1.161435</td>\n",
       "      <td>3.684932</td>\n",
       "      <td>0.567251</td>\n",
       "    </tr>\n",
       "    <tr>\n",
       "      <th>98</th>\n",
       "      <td>2.161290</td>\n",
       "      <td>-0.0185</td>\n",
       "      <td>0.777048</td>\n",
       "      <td>0.367347</td>\n",
       "      <td>1.161435</td>\n",
       "      <td>3.684932</td>\n",
       "      <td>0.571848</td>\n",
       "    </tr>\n",
       "    <tr>\n",
       "      <th>99</th>\n",
       "      <td>2.184783</td>\n",
       "      <td>-0.0185</td>\n",
       "      <td>0.776915</td>\n",
       "      <td>0.372014</td>\n",
       "      <td>1.161435</td>\n",
       "      <td>3.684932</td>\n",
       "      <td>0.571848</td>\n",
       "    </tr>\n",
       "  </tbody>\n",
       "</table>\n",
       "<p>100 rows × 7 columns</p>\n",
       "</div>"
      ],
      "text/plain": [
       "       mresr   revsi      rgri   mrendvi      vogi        sr      ndvi\n",
       "0   1.626794 -0.0225  0.797435  0.238616  1.091133  3.153846  0.515966\n",
       "1   1.629808 -0.0225  0.797530  0.239488  1.091358  3.169014  0.517707\n",
       "2   1.625000 -0.0220  0.797128  0.238095  1.091358  3.161972  0.516892\n",
       "3   1.620192 -0.0220  0.797251  0.236697  1.088889  3.161972  0.516074\n",
       "4   1.612440 -0.0215  0.796864  0.234432  1.089109  3.177305  0.517827\n",
       "5   1.620192 -0.0225  0.796926  0.236697  1.089109  3.170213  0.517007\n",
       "6   1.615385 -0.0220  0.796658  0.235294  1.089330  3.163121  0.517007\n",
       "7   1.618357 -0.0210  0.796670  0.236162  1.086849  3.163121  0.516184\n",
       "8   1.615385 -0.0220  0.796814  0.235294  1.087065  3.178571  0.517949\n",
       "9   1.613527 -0.0215  0.796886  0.234750  1.087282  3.187050  0.517123\n",
       "10  2.357724 -0.0275  0.763348  0.404358  1.191126  4.397590  0.628635\n",
       "11  2.338710 -0.0275  0.763251  0.400966  1.194539  4.397590  0.628635\n",
       "12  2.338710 -0.0270  0.762528  0.400966  1.190476  4.397590  0.628635\n",
       "13  2.338710 -0.0285  0.762191  0.400966  1.187075  4.397590  0.628635\n",
       "14  2.338710 -0.0275  0.762284  0.400966  1.187075  4.385542  0.627803\n",
       "15  2.338710 -0.0275  0.762508  0.400966  1.187075  4.439024  0.627803\n",
       "16  2.338710 -0.0275  0.762274  0.400966  1.191126  4.439024  0.627803\n",
       "17  2.330645 -0.0275  0.762353  0.399516  1.191126  4.439024  0.627803\n",
       "18  2.330645 -0.0280  0.762261  0.399516  1.183673  4.426829  0.626966\n",
       "19  2.330645 -0.0270  0.761963  0.399516  1.187075  4.439024  0.627803\n",
       "20  2.351145 -0.0310  0.736318  0.403189  1.207237  4.787500  0.652928\n",
       "21  2.343511 -0.0305  0.733282  0.401826  1.201320  4.822785  0.655022\n",
       "22  2.353846 -0.0300  0.732435  0.403670  1.205298  4.810127  0.655022\n",
       "23  2.346154 -0.0295  0.731270  0.402299  1.201987  4.858974  0.654267\n",
       "24  2.320611 -0.0295  0.730293  0.397701  1.191419  4.833333  0.656388\n",
       "25  2.312977 -0.0290  0.730525  0.396313  1.188119  4.807692  0.654867\n",
       "26  2.297710 -0.0285  0.728511  0.393519  1.178218  4.831169  0.655481\n",
       "27  2.290076 -0.0290  0.729088  0.392111  1.178218  4.881579  0.654709\n",
       "28  2.282443 -0.0285  0.727605  0.390698  1.175497  4.855263  0.653933\n",
       "29  2.265152 -0.0290  0.726510  0.387471  1.171617  4.855263  0.657658\n",
       "..       ...     ...       ...       ...       ...       ...       ...\n",
       "70  1.973451 -0.0190  0.818251  0.327381  1.147679  3.628205  0.565460\n",
       "71  1.955752 -0.0180  0.818620  0.323353  1.139831  3.636364  0.566197\n",
       "72  1.955357 -0.0180  0.818780  0.323263  1.140426  3.657895  0.564972\n",
       "73  1.938053 -0.0185  0.819219  0.319277  1.136752  3.644737  0.566952\n",
       "74  1.946429 -0.0180  0.819104  0.321212  1.137339  3.631579  0.565714\n",
       "75  1.937500 -0.0175  0.819946  0.319149  1.142241  3.666667  0.565714\n",
       "76  1.937500 -0.0175  0.820074  0.319149  1.142241  3.666667  0.565714\n",
       "77  1.937500 -0.0175  0.820123  0.319149  1.142241  3.666667  0.570201\n",
       "78  1.937500 -0.0180  0.819847  0.319149  1.137931  3.666667  0.568966\n",
       "79  1.937500 -0.0180  0.820242  0.319149  1.137931  3.666667  0.568966\n",
       "80  2.040404 -0.0180  0.803979  0.342193  1.145923  3.209302  0.523546\n",
       "81  2.040404 -0.0180  0.804239  0.342193  1.145923  3.209302  0.523546\n",
       "82  2.040404 -0.0175  0.804161  0.342193  1.145923  3.209302  0.523546\n",
       "83  2.040404 -0.0175  0.805647  0.342193  1.145923  3.209302  0.523546\n",
       "84  2.040404 -0.0175  0.805888  0.342193  1.141026  3.209302  0.523546\n",
       "85  2.020000 -0.0175  0.806194  0.337748  1.141026  3.209302  0.519337\n",
       "86  2.020000 -0.0180  0.806459  0.337748  1.141631  3.197674  0.519337\n",
       "87  2.010000 -0.0170  0.807026  0.335548  1.141631  3.197674  0.518006\n",
       "88  2.010000 -0.0170  0.807226  0.335548  1.141631  3.197674  0.518006\n",
       "89  2.010000 -0.0170  0.807456  0.335548  1.141631  3.197674  0.518006\n",
       "90  2.233333 -0.0180  0.782583  0.381443  1.173516  3.635135  0.567251\n",
       "91  2.208791 -0.0180  0.782497  0.376712  1.173516  3.684932  0.565982\n",
       "92  2.184783 -0.0190  0.778553  0.372014  1.166667  3.698630  0.567251\n",
       "93  2.195652 -0.0185  0.777816  0.374150  1.161435  3.684932  0.567251\n",
       "94  2.172043 -0.0185  0.777967  0.369492  1.161435  3.698630  0.567251\n",
       "95  2.172043 -0.0185  0.777352  0.369492  1.161435  3.698630  0.567251\n",
       "96  2.172043 -0.0185  0.777248  0.369492  1.161435  3.684932  0.567251\n",
       "97  2.172043 -0.0185  0.777361  0.369492  1.161435  3.684932  0.567251\n",
       "98  2.161290 -0.0185  0.777048  0.367347  1.161435  3.684932  0.571848\n",
       "99  2.184783 -0.0185  0.776915  0.372014  1.161435  3.684932  0.571848\n",
       "\n",
       "[100 rows x 7 columns]"
      ]
     },
     "execution_count": 84,
     "metadata": {},
     "output_type": "execute_result"
    }
   ],
   "source": [
    "dfnnew.T[:100]"
   ]
  },
  {
   "cell_type": "code",
   "execution_count": 85,
   "metadata": {},
   "outputs": [
    {
     "data": {
      "text/plain": [
       "<matplotlib.axes._subplots.AxesSubplot at 0x1f773feacc0>"
      ]
     },
     "execution_count": 85,
     "metadata": {},
     "output_type": "execute_result"
    },
    {
     "data": {
      "image/png": "[encoded data removed]",
      "text/plain": [
       "<Figure size 432x288 with 1 Axes>"
      ]
     },
     "metadata": {
      "needs_background": "light"
     },
     "output_type": "display_data"
    }
   ],
   "source": [
    "sns.scatterplot(mresr,ndvi)"
   ]
  },
  {
   "cell_type": "code",
   "execution_count": 86,
   "metadata": {},
   "outputs": [
    {
     "data": {
      "text/plain": [
       "<matplotlib.axes._subplots.AxesSubplot at 0x1f774399208>"
      ]
     },
     "execution_count": 86,
     "metadata": {},
     "output_type": "execute_result"
    },
    {
     "data": {
      "image/png": "[encoded data removed]",
      "text/plain": [
       "<Figure size 432x288 with 1 Axes>"
      ]
     },
     "metadata": {
      "needs_background": "light"
     },
     "output_type": "display_data"
    }
   ],
   "source": [
    "sns.scatterplot(revsi,ndvi)"
   ]
  },
  {
   "cell_type": "code",
   "execution_count": 87,
   "metadata": {},
   "outputs": [
    {
     "data": {
      "text/plain": [
       "<matplotlib.axes._subplots.AxesSubplot at 0x1f771284a58>"
      ]
     },
     "execution_count": 87,
     "metadata": {},
     "output_type": "execute_result"
    },
    {
     "data": {
      "image/png": "[encoded data removed]",
      "text/plain": [
       "<Figure size 432x288 with 1 Axes>"
      ]
     },
     "metadata": {
      "needs_background": "light"
     },
     "output_type": "display_data"
    }
   ],
   "source": [
    "sns.scatterplot(rgri,ndvi)"
   ]
  },
  {
   "cell_type": "code",
   "execution_count": 88,
   "metadata": {},
   "outputs": [
    {
     "data": {
      "text/plain": [
       "<matplotlib.axes._subplots.AxesSubplot at 0x1f7712cce48>"
      ]
     },
     "execution_count": 88,
     "metadata": {},
     "output_type": "execute_result"
    },
    {
     "data": {
      "image/png": "[encoded data removed]",
      "text/plain": [
       "<Figure size 432x288 with 1 Axes>"
      ]
     },
     "metadata": {
      "needs_background": "light"
     },
     "output_type": "display_data"
    }
   ],
   "source": [
    "sns.scatterplot(mrendvi,ndvi)"
   ]
  },
  {
   "cell_type": "code",
   "execution_count": 89,
   "metadata": {},
   "outputs": [
    {
     "data": {
      "text/plain": [
       "<matplotlib.axes._subplots.AxesSubplot at 0x1f771331198>"
      ]
     },
     "execution_count": 89,
     "metadata": {},
     "output_type": "execute_result"
    },
    {
     "data": {
      "image/png": "[encoded data removed]",
      "text/plain": [
       "<Figure size 432x288 with 1 Axes>"
      ]
     },
     "metadata": {
      "needs_background": "light"
     },
     "output_type": "display_data"
    }
   ],
   "source": [
    "sns.scatterplot(vogi,ndvi)"
   ]
  },
  {
   "cell_type": "code",
   "execution_count": 90,
   "metadata": {},
   "outputs": [
    {
     "data": {
      "text/plain": [
       "<matplotlib.axes._subplots.AxesSubplot at 0x1f771a72b70>"
      ]
     },
     "execution_count": 90,
     "metadata": {},
     "output_type": "execute_result"
    },
    {
     "data": {
      "image/png": "[encoded data removed]",
      "text/plain": [
       "<Figure size 432x288 with 1 Axes>"
      ]
     },
     "metadata": {
      "needs_background": "light"
     },
     "output_type": "display_data"
    }
   ],
   "source": [
    "sns.scatterplot(sr,ndvi)"
   ]
  },
  {
   "cell_type": "code",
   "execution_count": 92,
   "metadata": {},
   "outputs": [],
   "source": [
    "from scipy import stats"
   ]
  },
  {
   "cell_type": "code",
   "execution_count": 95,
   "metadata": {},
   "outputs": [
    {
     "name": "stderr",
     "output_type": "stream",
     "text": [
      "C:\\Users\\LENOVO\\Anaconda3new\\lib\\site-packages\\scipy\\stats\\stats.py:1713: FutureWarning: Using a non-tuple sequence for multidimensional indexing is deprecated; use `arr[tuple(seq)]` instead of `arr[seq]`. In the future this will be interpreted as an array index, `arr[np.array(seq)]`, which will result either in an error or a different result.\n",
      "  return np.add.reduce(sorted[indexer] * weights, axis=axis) / sumval\n"
     ]
    },
    {
     "data": {
      "image/png": "[encoded data removed]",
      "text/plain": [
       "<Figure size 432x288 with 1 Axes>"
      ]
     },
     "metadata": {
      "needs_background": "light"
     },
     "output_type": "display_data"
    }
   ],
   "source": [
    "slope, intercept, r_value, p_value, std_err = stats.linregress(dfnnew.T['ndvi'],dfnnew.T['sr'])\n",
    "\n",
    "# use line_kws to set line label for legend\n",
    "ax = sns.regplot(x=\"ndvi\", y=\"sr\", data=dfnnew.T, color='b', \n",
    " line_kws={'label':\"y={0:.1f}x+{1:.1f}\".format(slope,intercept)})\n",
    "\n",
    "# plot legend\n",
    "ax.legend()\n",
    "\n",
    "plt.show()\n",
    "\n",
    "#enter image description here"
   ]
  },
  {
   "cell_type": "code",
   "execution_count": 96,
   "metadata": {},
   "outputs": [
    {
     "data": {
      "text/plain": [
       "(11.832464994058398, -3.005462817133436)"
      ]
     },
     "execution_count": 96,
     "metadata": {},
     "output_type": "execute_result"
    }
   ],
   "source": [
    "slope,intercept"
   ]
  },
  {
   "cell_type": "code",
   "execution_count": 97,
   "metadata": {},
   "outputs": [],
   "source": [
    "pred=list()\n",
    "for x in ndvi:\n",
    "    pred.append(11.832464994058398*x-3.005462817133436)\n",
    "    \n",
    "    \n",
    "    "
   ]
  },
  {
   "cell_type": "code",
   "execution_count": 134,
   "metadata": {},
   "outputs": [],
   "source": [
    "pred=np.array(pred)\n",
    "#pred\n"
   ]
  },
  {
   "cell_type": "code",
   "execution_count": 133,
   "metadata": {},
   "outputs": [],
   "source": [
    "#sr"
   ]
  },
  {
   "cell_type": "code",
   "execution_count": 101,
   "metadata": {},
   "outputs": [
    {
     "data": {
      "text/plain": [
       "0.9914635415235103"
      ]
     },
     "execution_count": 101,
     "metadata": {},
     "output_type": "execute_result"
    }
   ],
   "source": [
    "from sklearn import metrics\n",
    "metrics.r2_score(sr,pred)"
   ]
  },
  {
   "cell_type": "code",
   "execution_count": null,
   "metadata": {},
   "outputs": [],
   "source": []
  },
  {
   "cell_type": "code",
   "execution_count": 102,
   "metadata": {},
   "outputs": [
    {
     "name": "stderr",
     "output_type": "stream",
     "text": [
      "C:\\Users\\LENOVO\\Anaconda3new\\lib\\site-packages\\scipy\\stats\\stats.py:1713: FutureWarning: Using a non-tuple sequence for multidimensional indexing is deprecated; use `arr[tuple(seq)]` instead of `arr[seq]`. In the future this will be interpreted as an array index, `arr[np.array(seq)]`, which will result either in an error or a different result.\n",
      "  return np.add.reduce(sorted[indexer] * weights, axis=axis) / sumval\n"
     ]
    },
    {
     "data": {
      "image/png": "[encoded data removed]",
      "text/plain": [
       "<Figure size 432x288 with 1 Axes>"
      ]
     },
     "metadata": {
      "needs_background": "light"
     },
     "output_type": "display_data"
    }
   ],
   "source": [
    "slope, intercept, r_value, p_value, std_err = stats.linregress(dfnnew.T['ndvi'],dfnnew.T['mrendvi'])\n",
    "\n",
    "# use line_kws to set line label for legend\n",
    "ax = sns.regplot(x=\"ndvi\", y=\"mrendvi\", data=dfnnew.T, color='b', \n",
    " line_kws={'label':\"y={0:.1f}x+{1:.1f}\".format(slope,intercept)})\n",
    "\n",
    "# plot legend\n",
    "ax.legend()\n",
    "\n",
    "plt.show()\n",
    "\n",
    "#enter image description here"
   ]
  },
  {
   "cell_type": "code",
   "execution_count": 110,
   "metadata": {},
   "outputs": [
    {
     "data": {
      "text/plain": [
       "(1.0484432875902376, -0.2543947602201714)"
      ]
     },
     "execution_count": 110,
     "metadata": {},
     "output_type": "execute_result"
    }
   ],
   "source": [
    "slope,intercept"
   ]
  },
  {
   "cell_type": "code",
   "execution_count": 111,
   "metadata": {},
   "outputs": [],
   "source": [
    "pred1=list()\n",
    "for x in ndvi:\n",
    "    pred1.append(1.0484432875902376*x-0.2543947602201714)\n",
    "    \n",
    "    \n",
    "    "
   ]
  },
  {
   "cell_type": "code",
   "execution_count": 131,
   "metadata": {},
   "outputs": [],
   "source": [
    "pred1=np.array(pred1)\n",
    "#pred1"
   ]
  },
  {
   "cell_type": "code",
   "execution_count": 132,
   "metadata": {},
   "outputs": [],
   "source": [
    "#mrendvi"
   ]
  },
  {
   "cell_type": "code",
   "execution_count": 115,
   "metadata": {},
   "outputs": [
    {
     "data": {
      "text/plain": [
       "0.6858364250066842"
      ]
     },
     "execution_count": 115,
     "metadata": {},
     "output_type": "execute_result"
    }
   ],
   "source": [
    "from sklearn import metrics\n",
    "metrics.r2_score(mrendvi,pred1)"
   ]
  },
  {
   "cell_type": "code",
   "execution_count": null,
   "metadata": {},
   "outputs": [],
   "source": []
  },
  {
   "cell_type": "code",
   "execution_count": null,
   "metadata": {},
   "outputs": [],
   "source": []
  },
  {
   "cell_type": "code",
   "execution_count": 117,
   "metadata": {},
   "outputs": [
    {
     "data": {
      "image/png": "[encoded data removed]",
      "text/plain": [
       "<Figure size 432x288 with 1 Axes>"
      ]
     },
     "metadata": {
      "needs_background": "light"
     },
     "output_type": "display_data"
    },
    {
     "data": {
      "text/plain": [
       "(4.9776224509293625, -0.7659104716088065)"
      ]
     },
     "execution_count": 117,
     "metadata": {},
     "output_type": "execute_result"
    }
   ],
   "source": [
    "slope, intercept, r_value, p_value, std_err = stats.linregress(dfnnew.T['ndvi'],dfnnew.T['mresr'])\n",
    "\n",
    "# use line_kws to set line label for legend\n",
    "ax = sns.regplot(x=\"ndvi\", y=\"mresr\", data=dfnnew.T, color='b', \n",
    " line_kws={'label':\"y={0:.1f}x+{1:.1f}\".format(slope,intercept)})\n",
    "\n",
    "# plot legend\n",
    "ax.legend()\n",
    "\n",
    "plt.show()\n",
    "\n",
    "#enter image description here\n",
    "\n",
    "slope,intercept"
   ]
  },
  {
   "cell_type": "code",
   "execution_count": 118,
   "metadata": {},
   "outputs": [],
   "source": [
    "pred2=list()\n",
    "for x in ndvi:\n",
    "    pred2.append(4.9776224509293625*x-0.7659104716088065)\n",
    "    \n",
    "    \n",
    "    "
   ]
  },
  {
   "cell_type": "code",
   "execution_count": 119,
   "metadata": {},
   "outputs": [],
   "source": [
    "pred2=np.array(pred2)"
   ]
  },
  {
   "cell_type": "code",
   "execution_count": 120,
   "metadata": {},
   "outputs": [
    {
     "data": {
      "text/plain": [
       "0.6875356995217881"
      ]
     },
     "execution_count": 120,
     "metadata": {},
     "output_type": "execute_result"
    }
   ],
   "source": [
    "from sklearn import metrics\n",
    "metrics.r2_score(mresr,pred2)"
   ]
  },
  {
   "cell_type": "code",
   "execution_count": null,
   "metadata": {},
   "outputs": [],
   "source": []
  },
  {
   "cell_type": "code",
   "execution_count": null,
   "metadata": {},
   "outputs": [],
   "source": []
  },
  {
   "cell_type": "code",
   "execution_count": 121,
   "metadata": {},
   "outputs": [
    {
     "name": "stderr",
     "output_type": "stream",
     "text": [
      "C:\\Users\\LENOVO\\Anaconda3new\\lib\\site-packages\\scipy\\stats\\stats.py:1713: FutureWarning: Using a non-tuple sequence for multidimensional indexing is deprecated; use `arr[tuple(seq)]` instead of `arr[seq]`. In the future this will be interpreted as an array index, `arr[np.array(seq)]`, which will result either in an error or a different result.\n",
      "  return np.add.reduce(sorted[indexer] * weights, axis=axis) / sumval\n"
     ]
    },
    {
     "data": {
      "image/png": "[encoded data removed]",
      "text/plain": [
       "<Figure size 432x288 with 1 Axes>"
      ]
     },
     "metadata": {
      "needs_background": "light"
     },
     "output_type": "display_data"
    },
    {
     "data": {
      "text/plain": [
       "(-0.42576984200351137, 1.0267019269776938)"
      ]
     },
     "execution_count": 121,
     "metadata": {},
     "output_type": "execute_result"
    }
   ],
   "source": [
    "slope, intercept, r_value, p_value, std_err = stats.linregress(dfnnew.T['ndvi'],dfnnew.T['rgri'])\n",
    "\n",
    "# use line_kws to set line label for legend\n",
    "ax = sns.regplot(x=\"ndvi\", y=\"rgri\", data=dfnnew.T, color='b', \n",
    " line_kws={'label':\"y={0:.1f}x+{1:.1f}\".format(slope,intercept)})\n",
    "\n",
    "# plot legend\n",
    "ax.legend()\n",
    "\n",
    "plt.show()\n",
    "\n",
    "#enter image description here\n",
    "\n",
    "slope,intercept"
   ]
  },
  {
   "cell_type": "code",
   "execution_count": 128,
   "metadata": {},
   "outputs": [],
   "source": [
    "pred3=list()\n",
    "for x in ndvi:\n",
    "    pred3.append(-0.42576984200351137*x+1.0267019269776938)\n",
    "    \n",
    "    \n",
    "    "
   ]
  },
  {
   "cell_type": "code",
   "execution_count": 129,
   "metadata": {},
   "outputs": [],
   "source": [
    "pred3=np.array(pred3)"
   ]
  },
  {
   "cell_type": "code",
   "execution_count": 130,
   "metadata": {},
   "outputs": [
    {
     "data": {
      "text/plain": [
       "0.6489631200629385"
      ]
     },
     "execution_count": 130,
     "metadata": {},
     "output_type": "execute_result"
    }
   ],
   "source": [
    "from sklearn import metrics\n",
    "metrics.r2_score(rgri,pred3)"
   ]
  },
  {
   "cell_type": "code",
   "execution_count": null,
   "metadata": {},
   "outputs": [],
   "source": []
  },
  {
   "cell_type": "code",
   "execution_count": null,
   "metadata": {},
   "outputs": [],
   "source": []
  },
  {
   "cell_type": "code",
   "execution_count": 136,
   "metadata": {},
   "outputs": [
    {
     "data": {
      "image/png": "[encoded data removed]",
      "text/plain": [
       "<Figure size 432x288 with 1 Axes>"
      ]
     },
     "metadata": {
      "needs_background": "light"
     },
     "output_type": "display_data"
    },
    {
     "data": {
      "text/plain": [
       "(0.7440404065684972, 0.7298672051833488)"
      ]
     },
     "execution_count": 136,
     "metadata": {},
     "output_type": "execute_result"
    }
   ],
   "source": [
    "slope, intercept, r_value, p_value, std_err = stats.linregress(dfnnew.T['ndvi'],dfnnew.T['vogi'])\n",
    "\n",
    "# use line_kws to set line label for legend\n",
    "ax = sns.regplot(x=\"ndvi\", y=\"vogi\", data=dfnnew.T, color='b', \n",
    " line_kws={'label':\"y={0:.1f}x+{1:.1f}\".format(slope,intercept)})\n",
    "\n",
    "# plot legend\n",
    "ax.legend()\n",
    "\n",
    "plt.show()\n",
    "\n",
    "#enter image description here\n",
    "\n",
    "slope,intercept"
   ]
  },
  {
   "cell_type": "code",
   "execution_count": 138,
   "metadata": {},
   "outputs": [],
   "source": [
    "pred4=list()\n",
    "for x in ndvi:\n",
    "    pred4.append(0.7440404065684972*x+0.7298672051833488)\n",
    "    \n",
    "    \n",
    "    "
   ]
  },
  {
   "cell_type": "code",
   "execution_count": 141,
   "metadata": {},
   "outputs": [],
   "source": [
    "pred4=np.array(pred4)\n"
   ]
  },
  {
   "cell_type": "code",
   "execution_count": 142,
   "metadata": {},
   "outputs": [
    {
     "data": {
      "text/plain": [
       "0.6468720096984866"
      ]
     },
     "execution_count": 142,
     "metadata": {},
     "output_type": "execute_result"
    }
   ],
   "source": [
    "from sklearn import metrics\n",
    "metrics.r2_score(vogi,pred4)"
   ]
  },
  {
   "cell_type": "code",
   "execution_count": null,
   "metadata": {},
   "outputs": [],
   "source": []
  },
  {
   "cell_type": "code",
   "execution_count": null,
   "metadata": {},
   "outputs": [],
   "source": []
  },
  {
   "cell_type": "code",
   "execution_count": 143,
   "metadata": {},
   "outputs": [
    {
     "name": "stderr",
     "output_type": "stream",
     "text": [
      "C:\\Users\\LENOVO\\Anaconda3new\\lib\\site-packages\\scipy\\stats\\stats.py:1713: FutureWarning: Using a non-tuple sequence for multidimensional indexing is deprecated; use `arr[tuple(seq)]` instead of `arr[seq]`. In the future this will be interpreted as an array index, `arr[np.array(seq)]`, which will result either in an error or a different result.\n",
      "  return np.add.reduce(sorted[indexer] * weights, axis=axis) / sumval\n"
     ]
    },
    {
     "data": {
      "image/png": "[encoded data removed]",
      "text/plain": [
       "<Figure size 432x288 with 1 Axes>"
      ]
     },
     "metadata": {
      "needs_background": "light"
     },
     "output_type": "display_data"
    },
    {
     "data": {
      "text/plain": [
       "(-0.09035634213165027, 0.027984884809946)"
      ]
     },
     "execution_count": 143,
     "metadata": {},
     "output_type": "execute_result"
    }
   ],
   "source": [
    "slope, intercept, r_value, p_value, std_err = stats.linregress(dfnnew.T['ndvi'],dfnnew.T['revsi'])\n",
    "\n",
    "# use line_kws to set line label for legend\n",
    "ax = sns.regplot(x=\"ndvi\", y=\"revsi\", data=dfnnew.T, color='b', \n",
    " line_kws={'label':\"y={0:.1f}x+{1:.1f}\".format(slope,intercept)})\n",
    "\n",
    "# plot legend\n",
    "ax.legend()\n",
    "\n",
    "plt.show()\n",
    "\n",
    "#enter image description here\n",
    "\n",
    "slope,intercept"
   ]
  },
  {
   "cell_type": "code",
   "execution_count": 146,
   "metadata": {},
   "outputs": [],
   "source": [
    "pred5=list()\n",
    "for x in ndvi:\n",
    "    pred5.append(-0.09035634213165027*x+0.027984884809946)\n",
    "    \n",
    "    \n",
    "    "
   ]
  },
  {
   "cell_type": "code",
   "execution_count": 147,
   "metadata": {},
   "outputs": [],
   "source": [
    "pred5=np.array(pred5)\n"
   ]
  },
  {
   "cell_type": "code",
   "execution_count": 148,
   "metadata": {},
   "outputs": [
    {
     "data": {
      "text/plain": [
       "0.608307805358794"
      ]
     },
     "execution_count": 148,
     "metadata": {},
     "output_type": "execute_result"
    }
   ],
   "source": [
    "from sklearn import metrics\n",
    "metrics.r2_score(revsi,pred5)"
   ]
  },
  {
   "cell_type": "code",
   "execution_count": null,
   "metadata": {},
   "outputs": [],
   "source": []
  }
 ],
 "metadata": {
  "kernelspec": {
   "display_name": "Python 3",
   "language": "python",
   "name": "python3"
  },
  "language_info": {
   "codemirror_mode": {
    "name": "ipython",
    "version": 3
   },
   "file_extension": ".py",
   "mimetype": "text/x-python",
   "name": "python",
   "nbconvert_exporter": "python",
   "pygments_lexer": "ipython3",
   "version": "3.7.1"
  }
 },
 "nbformat": 4,
 "nbformat_minor": 2
}
